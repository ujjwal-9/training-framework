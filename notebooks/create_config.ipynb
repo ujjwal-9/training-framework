{
 "cells": [
  {
   "cell_type": "code",
   "execution_count": null,
   "id": "b9010b42",
   "metadata": {},
   "outputs": [],
   "source": [
    "!which python\n",
    "%load_ext autoreload\n",
    "%autoreload 2\n",
    "%matplotlib inline"
   ]
  },
  {
   "cell_type": "code",
   "execution_count": null,
   "id": "43f3b8c4",
   "metadata": {},
   "outputs": [],
   "source": [
    "from qtrain.utils.defaults import *\n",
    "\n",
    "\n",
    "import monai.losses as L\n",
    "import monai.metrics as M\n",
    "import segmentation_models_pytorch as smp\n",
    "\n",
    "from monai.transforms import CropForeground\n",
    "from torch.utils.data import Dataset, DataLoader\n",
    "\n",
    "from qtrain.dataset.infarct import InfarctDataset3D\n",
    "from qtrain.utils import apply_torch_transform_3d, apply_torch_transform"
   ]
  },
  {
   "cell_type": "code",
   "execution_count": null,
   "id": "d1011600",
   "metadata": {},
   "outputs": [],
   "source": [
    "with open(\"3dunet_template.json\", \"r\") as f:\n",
    "    args = munch.munchify(json.load(f))"
   ]
  },
  {
   "cell_type": "code",
   "execution_count": null,
   "id": "302af070",
   "metadata": {},
   "outputs": [],
   "source": [
    "args.gpu = [1]\n",
    "args.n_slices = 8\n",
    "args.img_size = 224\n",
    "args.max_epoch = 300\n",
    "args.task = [\"segmentation\"]\n",
    "args.monitor = \"valid_loss\"\n",
    "\n",
    "args.batch_size = 8\n",
    "args.val_batch_size = 8\n",
    "\n",
    "args.only_annotated = False\n",
    "args.augmentation =  True\n",
    "args.extra_augs = False\n",
    "\n",
    "args.windowing = \"gray-white-matter\"\n",
    "\n",
    "args.loss_contrib = [2,3]\n",
    "args.losses = [L.FocalLoss(), L.DiceCELoss()]\n",
    "\n",
    "args.metrics = [M.DiceMetric(include_background=True, reduction=\"mean\"),\n",
    "                M.HausdorffDistanceMetric(include_background=True, reduction=\"mean\")]\n",
    "\n",
    "args.optimizer = torch.optim.Adam\n",
    "args.optimizer_params = munch.munchify({\n",
    "    'lr': 5e-3,\n",
    "    'weight_decay' : 4e-5\n",
    "})\n",
    "\n",
    "args.scheduler = torch.optim.lr_scheduler.MultiStepLR\n",
    "args.scheduler_params = munch.munchify({\n",
    "    'milestones': [25, 75, 150, 230], \n",
    "    'gamma' : 0.1\n",
    "})\n",
    "\n",
    "args.model_params = munch.munchify({\n",
    "    \"spatial_dims\": 3,\n",
    "    \"in_channels\": 3, \n",
    "    \"out_channels\": 1, \n",
    "    \"channels\": (16, 32, 64, 128), \n",
    "    \"strides\": (2, 2, 2), \n",
    "    \"kernel_size\": 3, \n",
    "    \"up_kernel_size\": 3, \n",
    "    \"num_res_units\": 0, \n",
    "    \"act\": 'PRELU', \n",
    "    \"norm\": 'INSTANCE', \n",
    "    \"dropout\": 0.0, \n",
    "    \"bias\": True, \n",
    "    \"adn_ordering\": 'NDA'\n",
    "})"
   ]
  },
  {
   "cell_type": "code",
   "execution_count": null,
   "id": "afdcfdf7",
   "metadata": {},
   "outputs": [],
   "source": [
    "args.fast_batch_size = 20\n",
    "args.fast_dev_run = False\n",
    "\n",
    "with open(\"3dunet_22march.yaml\", \"w\") as f:\n",
    "    yaml.dump(args, f)"
   ]
  },
  {
   "cell_type": "code",
   "execution_count": null,
   "id": "7328cf78",
   "metadata": {},
   "outputs": [],
   "source": [
    "with open(\"3dunet_22march.yaml\", \"r\") as f:\n",
    "    args_yaml = munch.munchify(yaml.load(f, Loader=yaml.Loader))"
   ]
  },
  {
   "cell_type": "code",
   "execution_count": null,
   "id": "d3447c5b",
   "metadata": {},
   "outputs": [],
   "source": [
    "# args.optimizer_name(net.parameters(), **args.optimizer)"
   ]
  },
  {
   "cell_type": "code",
   "execution_count": null,
   "id": "1af3e337",
   "metadata": {},
   "outputs": [],
   "source": [
    "dataset = InfarctDataset3D(args_yaml)"
   ]
  },
  {
   "cell_type": "code",
   "execution_count": null,
   "id": "059adfb4",
   "metadata": {},
   "outputs": [],
   "source": [
    "loader = DataLoader(\n",
    "            dataset,\n",
    "            batch_size=4,\n",
    "            num_workers=5,\n",
    "            drop_last=True,\n",
    "            pin_memory=True,\n",
    "            shuffle= True\n",
    "        )"
   ]
  },
  {
   "cell_type": "code",
   "execution_count": null,
   "id": "e0059f16",
   "metadata": {},
   "outputs": [],
   "source": [
    "args_yaml.model_params"
   ]
  },
  {
   "cell_type": "code",
   "execution_count": null,
   "id": "b6efc9ab",
   "metadata": {},
   "outputs": [],
   "source": [
    "from monai.networks.nets import UNet\n",
    "device = torch.device(\"cuda:0\")\n",
    "net = UNet(**args_yaml.model_params).double().to(device)"
   ]
  },
  {
   "cell_type": "code",
   "execution_count": null,
   "id": "0479ee84",
   "metadata": {},
   "outputs": [],
   "source": [
    "a, b = next(iter(loader))\n",
    "a.shape, b.shape"
   ]
  },
  {
   "cell_type": "code",
   "execution_count": null,
   "id": "3ec3f723",
   "metadata": {},
   "outputs": [],
   "source": [
    "b_ = net(a.double().to(device))\n",
    "b_.shape"
   ]
  }
 ],
 "metadata": {
  "kernelspec": {
   "display_name": "Python 3 (ipykernel)",
   "language": "python",
   "name": "python3"
  },
  "language_info": {
   "codemirror_mode": {
    "name": "ipython",
    "version": 3
   },
   "file_extension": ".py",
   "mimetype": "text/x-python",
   "name": "python",
   "nbconvert_exporter": "python",
   "pygments_lexer": "ipython3",
   "version": "3.9.16"
  }
 },
 "nbformat": 4,
 "nbformat_minor": 5
}
