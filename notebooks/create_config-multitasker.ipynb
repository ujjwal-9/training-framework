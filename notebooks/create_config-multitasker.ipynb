{
 "cells": [
  {
   "cell_type": "code",
   "execution_count": 2,
   "id": "b9010b42",
   "metadata": {},
   "outputs": [
    {
     "name": "stdout",
     "output_type": "stream",
     "text": [
      "/home/users/ujjwal.upadhyay/miniconda3/envs/train/bin/python\n"
     ]
    }
   ],
   "source": [
    "!which python\n",
    "%load_ext autoreload\n",
    "%autoreload 2\n",
    "%matplotlib inline"
   ]
  },
  {
   "cell_type": "code",
   "execution_count": 10,
   "id": "43f3b8c4",
   "metadata": {},
   "outputs": [
    {
     "name": "stdout",
     "output_type": "stream",
     "text": [
      "Unable to find logging config yaml. Configuring fallback values\n"
     ]
    }
   ],
   "source": [
    "from qtrain.utils.defaults import *\n",
    "\n",
    "import qtrain\n",
    "\n",
    "# import munch, json\n",
    "import torch\n",
    "import monai\n",
    "import torch.nn as nn\n",
    "import segmentation_models_pytorch as smp\n",
    "\n",
    "from torch.utils.data import Dataset, DataLoader\n",
    "import pytorch_lightning as pl"
   ]
  },
  {
   "cell_type": "code",
   "execution_count": 8,
   "id": "d1011600",
   "metadata": {},
   "outputs": [],
   "source": [
    "with open(\"template.json\", \"r\") as f:\n",
    "    args = munch.munchify(json.load(f))"
   ]
  },
  {
   "cell_type": "code",
   "execution_count": 11,
   "id": "8a66da46",
   "metadata": {},
   "outputs": [
    {
     "data": {
      "text/html": [
       "<div>\n",
       "<style scoped>\n",
       "    .dataframe tbody tr th:only-of-type {\n",
       "        vertical-align: middle;\n",
       "    }\n",
       "\n",
       "    .dataframe tbody tr th {\n",
       "        vertical-align: top;\n",
       "    }\n",
       "\n",
       "    .dataframe thead th {\n",
       "        text-align: right;\n",
       "    }\n",
       "</style>\n",
       "<table border=\"1\" class=\"dataframe\">\n",
       "  <thead>\n",
       "    <tr style=\"text-align: right;\">\n",
       "      <th></th>\n",
       "      <th>series</th>\n",
       "      <th>filepath</th>\n",
       "      <th>annotpath</th>\n",
       "      <th>acute</th>\n",
       "      <th>chronic</th>\n",
       "      <th>normal</th>\n",
       "      <th>set</th>\n",
       "      <th>status</th>\n",
       "      <th>labels</th>\n",
       "      <th>crop</th>\n",
       "      <th>sample_wts</th>\n",
       "      <th>annotation</th>\n",
       "    </tr>\n",
       "  </thead>\n",
       "  <tbody>\n",
       "    <tr>\n",
       "      <th>0</th>\n",
       "      <td>1.2.840.113619.2.25.1.1761985627.1415345710.730</td>\n",
       "      <td>/cache/datanas1/qer/all_studies_safetensor/res...</td>\n",
       "      <td>None</td>\n",
       "      <td>0</td>\n",
       "      <td>0</td>\n",
       "      <td>1</td>\n",
       "      <td>C</td>\n",
       "      <td>train</td>\n",
       "      <td>{'Infarct': []}</td>\n",
       "      <td>[[0, 28], [10, 472], [92, 444]]</td>\n",
       "      <td>0.850527</td>\n",
       "      <td>0</td>\n",
       "    </tr>\n",
       "    <tr>\n",
       "      <th>1</th>\n",
       "      <td>1.2.840.113619.2.81.290.1.3343.2.20131012.230725</td>\n",
       "      <td>/cache/datanas1/qer/all_studies_safetensor/res...</td>\n",
       "      <td>None</td>\n",
       "      <td>0</td>\n",
       "      <td>0</td>\n",
       "      <td>1</td>\n",
       "      <td>C</td>\n",
       "      <td>train</td>\n",
       "      <td>{'Infarct': []}</td>\n",
       "      <td>[[0, 24], [54, 472], [96, 426]]</td>\n",
       "      <td>0.850527</td>\n",
       "      <td>0</td>\n",
       "    </tr>\n",
       "    <tr>\n",
       "      <th>2</th>\n",
       "      <td>1.2.840.113619.2.55.3.2831165733.49.1418099688...</td>\n",
       "      <td>/cache/datanas1/qer/all_studies_safetensor/res...</td>\n",
       "      <td>None</td>\n",
       "      <td>0</td>\n",
       "      <td>0</td>\n",
       "      <td>1</td>\n",
       "      <td>C</td>\n",
       "      <td>train</td>\n",
       "      <td>{'Infarct': []}</td>\n",
       "      <td>[[0, 32], [66, 490], [86, 420]]</td>\n",
       "      <td>0.850527</td>\n",
       "      <td>0</td>\n",
       "    </tr>\n",
       "    <tr>\n",
       "      <th>3</th>\n",
       "      <td>1.2.840.113619.2.278.3.2831165729.116.14434241...</td>\n",
       "      <td>/cache/datanas1/qer/all_studies_safetensor/res...</td>\n",
       "      <td>None</td>\n",
       "      <td>0</td>\n",
       "      <td>0</td>\n",
       "      <td>1</td>\n",
       "      <td>C</td>\n",
       "      <td>train</td>\n",
       "      <td>{'Infarct': []}</td>\n",
       "      <td>[[0, 30], [52, 476], [116, 434]]</td>\n",
       "      <td>0.850527</td>\n",
       "      <td>0</td>\n",
       "    </tr>\n",
       "    <tr>\n",
       "      <th>4</th>\n",
       "      <td>1.2.840.113619.2.81.290.1.14454.3.20180922.230659</td>\n",
       "      <td>/cache/datanas1/qer/all_studies_safetensor/res...</td>\n",
       "      <td>None</td>\n",
       "      <td>0</td>\n",
       "      <td>0</td>\n",
       "      <td>1</td>\n",
       "      <td>C</td>\n",
       "      <td>train</td>\n",
       "      <td>{'Infarct': []}</td>\n",
       "      <td>[[0, 22], [0, 382], [80, 426]]</td>\n",
       "      <td>0.850527</td>\n",
       "      <td>0</td>\n",
       "    </tr>\n",
       "    <tr>\n",
       "      <th>...</th>\n",
       "      <td>...</td>\n",
       "      <td>...</td>\n",
       "      <td>...</td>\n",
       "      <td>...</td>\n",
       "      <td>...</td>\n",
       "      <td>...</td>\n",
       "      <td>...</td>\n",
       "      <td>...</td>\n",
       "      <td>...</td>\n",
       "      <td>...</td>\n",
       "      <td>...</td>\n",
       "      <td>...</td>\n",
       "    </tr>\n",
       "    <tr>\n",
       "      <th>62216</th>\n",
       "      <td>1.2.840.113619.2.278.3.2831165752.313.13907914...</td>\n",
       "      <td>/cache/datanas1/qer/all_studies_safetensor/seg...</td>\n",
       "      <td>/cache/datanas1/qer/all_studies_safetensor/seg...</td>\n",
       "      <td>-100</td>\n",
       "      <td>-100</td>\n",
       "      <td>0</td>\n",
       "      <td>A</td>\n",
       "      <td>valid</td>\n",
       "      <td>{'Infarct': [1]}</td>\n",
       "      <td>[[45, 511], [47, 454]]</td>\n",
       "      <td>9.627768</td>\n",
       "      <td>0</td>\n",
       "    </tr>\n",
       "    <tr>\n",
       "      <th>62217</th>\n",
       "      <td>1.2.840.113619.2.278.3.2831165736.474.13628210...</td>\n",
       "      <td>/cache/datanas1/qer/all_studies_safetensor/seg...</td>\n",
       "      <td>/cache/datanas1/qer/all_studies_safetensor/seg...</td>\n",
       "      <td>-100</td>\n",
       "      <td>-100</td>\n",
       "      <td>0</td>\n",
       "      <td>A</td>\n",
       "      <td>valid</td>\n",
       "      <td>{'Infarct': [1]}</td>\n",
       "      <td>[[0, 24], [82, 478], [92, 400]]</td>\n",
       "      <td>9.627768</td>\n",
       "      <td>1</td>\n",
       "    </tr>\n",
       "    <tr>\n",
       "      <th>62218</th>\n",
       "      <td>1.2.840.113619.2.278.3.2831165736.7.1343222201...</td>\n",
       "      <td>/cache/datanas1/qer/all_studies_safetensor/seg...</td>\n",
       "      <td>/cache/datanas1/qer/all_studies_safetensor/seg...</td>\n",
       "      <td>-100</td>\n",
       "      <td>-100</td>\n",
       "      <td>0</td>\n",
       "      <td>A</td>\n",
       "      <td>valid</td>\n",
       "      <td>{'Infarct': [1]}</td>\n",
       "      <td>[[0, 22], [52, 462], [98, 406]]</td>\n",
       "      <td>9.627768</td>\n",
       "      <td>1</td>\n",
       "    </tr>\n",
       "    <tr>\n",
       "      <th>62219</th>\n",
       "      <td>1.2.840.113619.2.278.3.2831165736.6.1368930853.83</td>\n",
       "      <td>/cache/datanas1/qer/all_studies_safetensor/seg...</td>\n",
       "      <td>/cache/datanas1/qer/all_studies_safetensor/seg...</td>\n",
       "      <td>-100</td>\n",
       "      <td>-100</td>\n",
       "      <td>0</td>\n",
       "      <td>A</td>\n",
       "      <td>valid</td>\n",
       "      <td>{'Infarct': [1]}</td>\n",
       "      <td>[[57, 509], [23, 500]]</td>\n",
       "      <td>9.627768</td>\n",
       "      <td>0</td>\n",
       "    </tr>\n",
       "    <tr>\n",
       "      <th>62220</th>\n",
       "      <td>1.2.840.113619.2.55.3.2831165736.148.137212097...</td>\n",
       "      <td>/cache/datanas1/qer/all_studies_safetensor/seg...</td>\n",
       "      <td>/cache/datanas1/qer/all_studies_safetensor/seg...</td>\n",
       "      <td>-100</td>\n",
       "      <td>-100</td>\n",
       "      <td>0</td>\n",
       "      <td>A</td>\n",
       "      <td>valid</td>\n",
       "      <td>{'Infarct': [1]}</td>\n",
       "      <td>[[121, 512], [54, 464]]</td>\n",
       "      <td>9.627768</td>\n",
       "      <td>0</td>\n",
       "    </tr>\n",
       "  </tbody>\n",
       "</table>\n",
       "<p>62221 rows × 12 columns</p>\n",
       "</div>"
      ],
      "text/plain": [
       "                                                  series   \n",
       "0        1.2.840.113619.2.25.1.1761985627.1415345710.730  \\\n",
       "1       1.2.840.113619.2.81.290.1.3343.2.20131012.230725   \n",
       "2      1.2.840.113619.2.55.3.2831165733.49.1418099688...   \n",
       "3      1.2.840.113619.2.278.3.2831165729.116.14434241...   \n",
       "4      1.2.840.113619.2.81.290.1.14454.3.20180922.230659   \n",
       "...                                                  ...   \n",
       "62216  1.2.840.113619.2.278.3.2831165752.313.13907914...   \n",
       "62217  1.2.840.113619.2.278.3.2831165736.474.13628210...   \n",
       "62218  1.2.840.113619.2.278.3.2831165736.7.1343222201...   \n",
       "62219  1.2.840.113619.2.278.3.2831165736.6.1368930853.83   \n",
       "62220  1.2.840.113619.2.55.3.2831165736.148.137212097...   \n",
       "\n",
       "                                                filepath   \n",
       "0      /cache/datanas1/qer/all_studies_safetensor/res...  \\\n",
       "1      /cache/datanas1/qer/all_studies_safetensor/res...   \n",
       "2      /cache/datanas1/qer/all_studies_safetensor/res...   \n",
       "3      /cache/datanas1/qer/all_studies_safetensor/res...   \n",
       "4      /cache/datanas1/qer/all_studies_safetensor/res...   \n",
       "...                                                  ...   \n",
       "62216  /cache/datanas1/qer/all_studies_safetensor/seg...   \n",
       "62217  /cache/datanas1/qer/all_studies_safetensor/seg...   \n",
       "62218  /cache/datanas1/qer/all_studies_safetensor/seg...   \n",
       "62219  /cache/datanas1/qer/all_studies_safetensor/seg...   \n",
       "62220  /cache/datanas1/qer/all_studies_safetensor/seg...   \n",
       "\n",
       "                                               annotpath  acute  chronic   \n",
       "0                                                   None      0        0  \\\n",
       "1                                                   None      0        0   \n",
       "2                                                   None      0        0   \n",
       "3                                                   None      0        0   \n",
       "4                                                   None      0        0   \n",
       "...                                                  ...    ...      ...   \n",
       "62216  /cache/datanas1/qer/all_studies_safetensor/seg...   -100     -100   \n",
       "62217  /cache/datanas1/qer/all_studies_safetensor/seg...   -100     -100   \n",
       "62218  /cache/datanas1/qer/all_studies_safetensor/seg...   -100     -100   \n",
       "62219  /cache/datanas1/qer/all_studies_safetensor/seg...   -100     -100   \n",
       "62220  /cache/datanas1/qer/all_studies_safetensor/seg...   -100     -100   \n",
       "\n",
       "       normal set status            labels                              crop   \n",
       "0           1   C  train   {'Infarct': []}   [[0, 28], [10, 472], [92, 444]]  \\\n",
       "1           1   C  train   {'Infarct': []}   [[0, 24], [54, 472], [96, 426]]   \n",
       "2           1   C  train   {'Infarct': []}   [[0, 32], [66, 490], [86, 420]]   \n",
       "3           1   C  train   {'Infarct': []}  [[0, 30], [52, 476], [116, 434]]   \n",
       "4           1   C  train   {'Infarct': []}    [[0, 22], [0, 382], [80, 426]]   \n",
       "...       ...  ..    ...               ...                               ...   \n",
       "62216       0   A  valid  {'Infarct': [1]}            [[45, 511], [47, 454]]   \n",
       "62217       0   A  valid  {'Infarct': [1]}   [[0, 24], [82, 478], [92, 400]]   \n",
       "62218       0   A  valid  {'Infarct': [1]}   [[0, 22], [52, 462], [98, 406]]   \n",
       "62219       0   A  valid  {'Infarct': [1]}            [[57, 509], [23, 500]]   \n",
       "62220       0   A  valid  {'Infarct': [1]}           [[121, 512], [54, 464]]   \n",
       "\n",
       "       sample_wts  annotation  \n",
       "0        0.850527           0  \n",
       "1        0.850527           0  \n",
       "2        0.850527           0  \n",
       "3        0.850527           0  \n",
       "4        0.850527           0  \n",
       "...           ...         ...  \n",
       "62216    9.627768           0  \n",
       "62217    9.627768           1  \n",
       "62218    9.627768           1  \n",
       "62219    9.627768           0  \n",
       "62220    9.627768           0  \n",
       "\n",
       "[62221 rows x 12 columns]"
      ]
     },
     "execution_count": 11,
     "metadata": {},
     "output_type": "execute_result"
    }
   ],
   "source": [
    "df = pd.read_json(\n",
    "    \"/cache/datanas1/qer/all_studies_safetensor/jsons/e2e_train+val_d62K_26_07_23.json\"\n",
    ")\n",
    "df"
   ]
  },
  {
   "cell_type": "code",
   "execution_count": 56,
   "id": "f445810d",
   "metadata": {},
   "outputs": [
    {
     "data": {
      "text/plain": [
       "2348"
      ]
     },
     "execution_count": 56,
     "metadata": {},
     "output_type": "execute_result"
    }
   ],
   "source": [
    "len(df.loc[df.set == \"A\"])"
   ]
  },
  {
   "cell_type": "code",
   "execution_count": 69,
   "id": "a37bfb3d",
   "metadata": {},
   "outputs": [
    {
     "data": {
      "text/plain": [
       "set  status\n",
       "A    train     1882\n",
       "     valid      466\n",
       "C    train     1501\n",
       "     valid      701\n",
       "Name: count, dtype: int64"
      ]
     },
     "execution_count": 69,
     "metadata": {},
     "output_type": "execute_result"
    }
   ],
   "source": [
    "df_new.groupby(\"set\").status.value_counts()"
   ]
  },
  {
   "cell_type": "code",
   "execution_count": 70,
   "id": "1a1b89e9",
   "metadata": {},
   "outputs": [
    {
     "data": {
      "text/html": [
       "<div>\n",
       "<style scoped>\n",
       "    .dataframe tbody tr th:only-of-type {\n",
       "        vertical-align: middle;\n",
       "    }\n",
       "\n",
       "    .dataframe tbody tr th {\n",
       "        vertical-align: top;\n",
       "    }\n",
       "\n",
       "    .dataframe thead th {\n",
       "        text-align: right;\n",
       "    }\n",
       "</style>\n",
       "<table border=\"1\" class=\"dataframe\">\n",
       "  <thead>\n",
       "    <tr style=\"text-align: right;\">\n",
       "      <th></th>\n",
       "      <th>series</th>\n",
       "      <th>filepath</th>\n",
       "      <th>annotpath</th>\n",
       "      <th>acute</th>\n",
       "      <th>chronic</th>\n",
       "      <th>normal</th>\n",
       "      <th>set</th>\n",
       "      <th>status</th>\n",
       "      <th>labels</th>\n",
       "      <th>crop</th>\n",
       "      <th>sample_wts</th>\n",
       "      <th>annotation</th>\n",
       "    </tr>\n",
       "  </thead>\n",
       "  <tbody>\n",
       "    <tr>\n",
       "      <th>0</th>\n",
       "      <td>1.2.840.113619.2.55.3.2831165736.118.137428500...</td>\n",
       "      <td>/cache/datanas1/qer/all_studies_safetensor/res...</td>\n",
       "      <td>/cache/datanas1/qer/all_studies_safetensor/seg...</td>\n",
       "      <td>0</td>\n",
       "      <td>1</td>\n",
       "      <td>0</td>\n",
       "      <td>A</td>\n",
       "      <td>train</td>\n",
       "      <td>{'Infarct': [1]}</td>\n",
       "      <td>[[0, 26], [30, 476], [86, 424]]</td>\n",
       "      <td>16.871806</td>\n",
       "      <td>1</td>\n",
       "    </tr>\n",
       "    <tr>\n",
       "      <th>1</th>\n",
       "      <td>1.2.840.113619.2.55.3.2831165742.271.145164062...</td>\n",
       "      <td>/cache/datanas1/qer/all_studies_safetensor/res...</td>\n",
       "      <td>/cache/datanas1/qer/all_studies_safetensor/seg...</td>\n",
       "      <td>-100</td>\n",
       "      <td>-100</td>\n",
       "      <td>0</td>\n",
       "      <td>A</td>\n",
       "      <td>train</td>\n",
       "      <td>{'Infarct': [1]}</td>\n",
       "      <td>[[0, 29], [12, 466], [84, 428]]</td>\n",
       "      <td>16.871806</td>\n",
       "      <td>1</td>\n",
       "    </tr>\n",
       "    <tr>\n",
       "      <th>2</th>\n",
       "      <td>1.2.840.113619.2.55.3.2831165736.692.138792935...</td>\n",
       "      <td>/cache/datanas1/qer/all_studies_safetensor/res...</td>\n",
       "      <td>/cache/datanas1/qer/all_studies_safetensor/seg...</td>\n",
       "      <td>0</td>\n",
       "      <td>1</td>\n",
       "      <td>0</td>\n",
       "      <td>A</td>\n",
       "      <td>train</td>\n",
       "      <td>{'Infarct': [1]}</td>\n",
       "      <td>[[0, 31], [20, 502], [60, 422]]</td>\n",
       "      <td>16.871806</td>\n",
       "      <td>1</td>\n",
       "    </tr>\n",
       "    <tr>\n",
       "      <th>3</th>\n",
       "      <td>1.3.12.2.1107.5.1.4.40318.5.0.6919493219251052</td>\n",
       "      <td>/cache/datanas1/qer/all_studies_safetensor/res...</td>\n",
       "      <td>/cache/datanas1/qer/all_studies_safetensor/seg...</td>\n",
       "      <td>1</td>\n",
       "      <td>0</td>\n",
       "      <td>0</td>\n",
       "      <td>A</td>\n",
       "      <td>train</td>\n",
       "      <td>{'Infarct': [1]}</td>\n",
       "      <td>[[0, 28], [0, 502], [62, 454]]</td>\n",
       "      <td>16.871806</td>\n",
       "      <td>1</td>\n",
       "    </tr>\n",
       "    <tr>\n",
       "      <th>4</th>\n",
       "      <td>1.2.840.113619.2.278.3.2831165735.336.13299563...</td>\n",
       "      <td>/cache/datanas1/qer/all_studies_safetensor/res...</td>\n",
       "      <td>/cache/datanas1/qer/all_studies_safetensor/seg...</td>\n",
       "      <td>0</td>\n",
       "      <td>1</td>\n",
       "      <td>0</td>\n",
       "      <td>A</td>\n",
       "      <td>train</td>\n",
       "      <td>{'Infarct': [1]}</td>\n",
       "      <td>[[0, 31], [26, 456], [98, 426]]</td>\n",
       "      <td>16.871806</td>\n",
       "      <td>1</td>\n",
       "    </tr>\n",
       "    <tr>\n",
       "      <th>...</th>\n",
       "      <td>...</td>\n",
       "      <td>...</td>\n",
       "      <td>...</td>\n",
       "      <td>...</td>\n",
       "      <td>...</td>\n",
       "      <td>...</td>\n",
       "      <td>...</td>\n",
       "      <td>...</td>\n",
       "      <td>...</td>\n",
       "      <td>...</td>\n",
       "      <td>...</td>\n",
       "      <td>...</td>\n",
       "    </tr>\n",
       "    <tr>\n",
       "      <th>4345</th>\n",
       "      <td>1.2.840.113619.2.55.3.2831165748.482.143262621...</td>\n",
       "      <td>/cache/datanas1/qer/all_studies_safetensor/res...</td>\n",
       "      <td>None</td>\n",
       "      <td>0</td>\n",
       "      <td>0</td>\n",
       "      <td>1</td>\n",
       "      <td>C</td>\n",
       "      <td>valid</td>\n",
       "      <td>{'Infarct': []}</td>\n",
       "      <td>[[0, 27], [46, 456], [92, 400]]</td>\n",
       "      <td>0.485347</td>\n",
       "      <td>0</td>\n",
       "    </tr>\n",
       "    <tr>\n",
       "      <th>4346</th>\n",
       "      <td>1.2.840.113619.2.55.3.2831165748.958.143260956...</td>\n",
       "      <td>/cache/datanas1/qer/all_studies_safetensor/res...</td>\n",
       "      <td>None</td>\n",
       "      <td>0</td>\n",
       "      <td>0</td>\n",
       "      <td>1</td>\n",
       "      <td>C</td>\n",
       "      <td>valid</td>\n",
       "      <td>{'Infarct': []}</td>\n",
       "      <td>[[0, 35], [16, 482], [62, 438]]</td>\n",
       "      <td>0.485347</td>\n",
       "      <td>0</td>\n",
       "    </tr>\n",
       "    <tr>\n",
       "      <th>4347</th>\n",
       "      <td>1.2.840.113619.2.81.290.8017.40295.2.20150529....</td>\n",
       "      <td>/cache/datanas1/qer/all_studies_safetensor/res...</td>\n",
       "      <td>None</td>\n",
       "      <td>0</td>\n",
       "      <td>0</td>\n",
       "      <td>1</td>\n",
       "      <td>C</td>\n",
       "      <td>valid</td>\n",
       "      <td>{'Infarct': []}</td>\n",
       "      <td>[[0, 19], [28, 480], [66, 414]]</td>\n",
       "      <td>0.485347</td>\n",
       "      <td>0</td>\n",
       "    </tr>\n",
       "    <tr>\n",
       "      <th>4348</th>\n",
       "      <td>1.3.12.2.1107.5.1.4.60438.30000015052902543312...</td>\n",
       "      <td>/cache/datanas1/qer/all_studies_safetensor/res...</td>\n",
       "      <td>None</td>\n",
       "      <td>0</td>\n",
       "      <td>0</td>\n",
       "      <td>1</td>\n",
       "      <td>C</td>\n",
       "      <td>valid</td>\n",
       "      <td>{'Infarct': []}</td>\n",
       "      <td>[[0, 32], [22, 486], [100, 448]]</td>\n",
       "      <td>0.485347</td>\n",
       "      <td>0</td>\n",
       "    </tr>\n",
       "    <tr>\n",
       "      <th>4349</th>\n",
       "      <td>1.2.840.113619.2.284.3.2831166742.299.13489790...</td>\n",
       "      <td>/cache/datanas1/qer/all_studies_safetensor/res...</td>\n",
       "      <td>None</td>\n",
       "      <td>0</td>\n",
       "      <td>0</td>\n",
       "      <td>1</td>\n",
       "      <td>C</td>\n",
       "      <td>valid</td>\n",
       "      <td>{'Infarct': []}</td>\n",
       "      <td>[[0, 33], [58, 484], [80, 420]]</td>\n",
       "      <td>0.485347</td>\n",
       "      <td>0</td>\n",
       "    </tr>\n",
       "  </tbody>\n",
       "</table>\n",
       "<p>4350 rows × 12 columns</p>\n",
       "</div>"
      ],
      "text/plain": [
       "                                                 series   \n",
       "0     1.2.840.113619.2.55.3.2831165736.118.137428500...  \\\n",
       "1     1.2.840.113619.2.55.3.2831165742.271.145164062...   \n",
       "2     1.2.840.113619.2.55.3.2831165736.692.138792935...   \n",
       "3        1.3.12.2.1107.5.1.4.40318.5.0.6919493219251052   \n",
       "4     1.2.840.113619.2.278.3.2831165735.336.13299563...   \n",
       "...                                                 ...   \n",
       "4345  1.2.840.113619.2.55.3.2831165748.482.143262621...   \n",
       "4346  1.2.840.113619.2.55.3.2831165748.958.143260956...   \n",
       "4347  1.2.840.113619.2.81.290.8017.40295.2.20150529....   \n",
       "4348  1.3.12.2.1107.5.1.4.60438.30000015052902543312...   \n",
       "4349  1.2.840.113619.2.284.3.2831166742.299.13489790...   \n",
       "\n",
       "                                               filepath   \n",
       "0     /cache/datanas1/qer/all_studies_safetensor/res...  \\\n",
       "1     /cache/datanas1/qer/all_studies_safetensor/res...   \n",
       "2     /cache/datanas1/qer/all_studies_safetensor/res...   \n",
       "3     /cache/datanas1/qer/all_studies_safetensor/res...   \n",
       "4     /cache/datanas1/qer/all_studies_safetensor/res...   \n",
       "...                                                 ...   \n",
       "4345  /cache/datanas1/qer/all_studies_safetensor/res...   \n",
       "4346  /cache/datanas1/qer/all_studies_safetensor/res...   \n",
       "4347  /cache/datanas1/qer/all_studies_safetensor/res...   \n",
       "4348  /cache/datanas1/qer/all_studies_safetensor/res...   \n",
       "4349  /cache/datanas1/qer/all_studies_safetensor/res...   \n",
       "\n",
       "                                              annotpath  acute  chronic   \n",
       "0     /cache/datanas1/qer/all_studies_safetensor/seg...      0        1  \\\n",
       "1     /cache/datanas1/qer/all_studies_safetensor/seg...   -100     -100   \n",
       "2     /cache/datanas1/qer/all_studies_safetensor/seg...      0        1   \n",
       "3     /cache/datanas1/qer/all_studies_safetensor/seg...      1        0   \n",
       "4     /cache/datanas1/qer/all_studies_safetensor/seg...      0        1   \n",
       "...                                                 ...    ...      ...   \n",
       "4345                                               None      0        0   \n",
       "4346                                               None      0        0   \n",
       "4347                                               None      0        0   \n",
       "4348                                               None      0        0   \n",
       "4349                                               None      0        0   \n",
       "\n",
       "      normal set status            labels                              crop   \n",
       "0          0   A  train  {'Infarct': [1]}   [[0, 26], [30, 476], [86, 424]]  \\\n",
       "1          0   A  train  {'Infarct': [1]}   [[0, 29], [12, 466], [84, 428]]   \n",
       "2          0   A  train  {'Infarct': [1]}   [[0, 31], [20, 502], [60, 422]]   \n",
       "3          0   A  train  {'Infarct': [1]}    [[0, 28], [0, 502], [62, 454]]   \n",
       "4          0   A  train  {'Infarct': [1]}   [[0, 31], [26, 456], [98, 426]]   \n",
       "...      ...  ..    ...               ...                               ...   \n",
       "4345       1   C  valid   {'Infarct': []}   [[0, 27], [46, 456], [92, 400]]   \n",
       "4346       1   C  valid   {'Infarct': []}   [[0, 35], [16, 482], [62, 438]]   \n",
       "4347       1   C  valid   {'Infarct': []}   [[0, 19], [28, 480], [66, 414]]   \n",
       "4348       1   C  valid   {'Infarct': []}  [[0, 32], [22, 486], [100, 448]]   \n",
       "4349       1   C  valid   {'Infarct': []}   [[0, 33], [58, 484], [80, 420]]   \n",
       "\n",
       "      sample_wts  annotation  \n",
       "0      16.871806           1  \n",
       "1      16.871806           1  \n",
       "2      16.871806           1  \n",
       "3      16.871806           1  \n",
       "4      16.871806           1  \n",
       "...          ...         ...  \n",
       "4345    0.485347           0  \n",
       "4346    0.485347           0  \n",
       "4347    0.485347           0  \n",
       "4348    0.485347           0  \n",
       "4349    0.485347           0  \n",
       "\n",
       "[4350 rows x 12 columns]"
      ]
     },
     "execution_count": 70,
     "metadata": {},
     "output_type": "execute_result"
    }
   ],
   "source": [
    "df_new = pd.concat(\n",
    "    [\n",
    "        df.loc[df.set == \"A\"].reset_index(drop=True),\n",
    "        df.loc[(df.set == \"C\") & (df.status == \"train\")]\n",
    "        .reset_index(drop=True)\n",
    "        .loc[:1500, :],\n",
    "        df.loc[(df.set == \"C\") & (df.status == \"valid\")]\n",
    "        .reset_index(drop=True)\n",
    "        .loc[:500, :],\n",
    "    ]\n",
    ")\n",
    "df_new = df_new.reset_index(drop=True)\n",
    "df_new"
   ]
  },
  {
   "cell_type": "code",
   "execution_count": 71,
   "id": "ce50a558",
   "metadata": {},
   "outputs": [],
   "source": [
    "df_new.to_json(\n",
    "    \"/cache/datanas1/qer/all_studies_safetensor/jsons/e2e_train+val_setA_C.json\"\n",
    ")\n",
    "\n",
    "# df.loc[df.set==\"A\"].reset_index(drop=True).to_json(\n",
    "#     \"/cache/datanas1/qer/all_studies_safetensor/jsons/e2e_train+val_setA.json\"\n",
    "# )"
   ]
  },
  {
   "cell_type": "code",
   "execution_count": 6,
   "id": "6b1e5c77",
   "metadata": {},
   "outputs": [
    {
     "data": {
      "text/plain": [
       "set  annotation\n",
       "A    1              1991\n",
       "     0               357\n",
       "B    1             13296\n",
       "C    0             46577\n",
       "Name: count, dtype: int64"
      ]
     },
     "execution_count": 6,
     "metadata": {},
     "output_type": "execute_result"
    }
   ],
   "source": [
    "df.groupby(\"set\").annotation.value_counts()"
   ]
  },
  {
   "cell_type": "code",
   "execution_count": 16,
   "id": "d14d0f91",
   "metadata": {},
   "outputs": [],
   "source": [
    "args.datapath = (\n",
    "    \"/cache/datanas1/qer/all_studies_safetensor/jsons/e2e_train+val_setA_C.json\"\n",
    ")\n",
    "args.dataset_class_60k = True\n",
    "args.save_checkpoints = \"/home/users/ujjwal.upadhyay/projects/qtrain/logs\"\n",
    "# args.sampler = True\n",
    "args.sampler = None\n",
    "args.n_samples = 1000\n",
    "args.gpu = [0, 1]\n",
    "args.precision = 32\n",
    "args.strategy = \"ddp\"\n",
    "args.crop = True\n",
    "args.patience = 100\n",
    "args.ignore_index = -100\n",
    "\n",
    "args.n_slices = 64\n",
    "args.valid_n_slices = args.n_slices\n",
    "args.img_size = 224\n",
    "\n",
    "\n",
    "args.max_epoch = 200\n",
    "args.batch_size = 2\n",
    "args.val_batch_size = 2\n",
    "args.num_workers = 8\n",
    "args.prefetch = 2\n",
    "args.accumulate_grad_batches = 8\n",
    "args.gradient_clip_val = 0.5\n",
    "args.gradient_clip_algorithm = \"norm\"\n",
    "\n",
    "args.only_annotated = False\n",
    "args.augmentation = True\n",
    "\n",
    "args.windowing = \"old\"\n",
    "\n",
    "# args.loss_contrib = munch.munchify({\n",
    "#     \"seg/focal\": 5,\n",
    "#     \"seg/mcc\": 3,\n",
    "#     \"seg/dice\": 3,\n",
    "#     \"cls/bce\": 2\n",
    "# })\n",
    "\n",
    "\n",
    "# import qtrain.losses.dice_loss\n",
    "# args.losses = munch.munchify({\n",
    "#     \"seg/focal\": smp.losses.FocalLoss(mode=\"binary\"),\n",
    "#     \"seg/dice\": qtrain.losses.dice_loss.GDiceLossV2(),\n",
    "#     \"seg/mcc\": smp.losses.MCCLoss(),\n",
    "#     \"cls/bce\": nn.CrossEntropyLoss(weight=torch.FloatTensor([1.,1.]))\n",
    "# })\n",
    "\n",
    "args.seg_loss_wts = munch.munchify({\"focal\": 1})\n",
    "\n",
    "args.cls_loss_wts = munch.munchify(\n",
    "    {\n",
    "        \"ce\": 3,\n",
    "    }\n",
    ")\n",
    "\n",
    "args.slc_loss_wts = munch.munchify(\n",
    "    {\n",
    "        \"bce\": 1,\n",
    "    }\n",
    ")\n",
    "\n",
    "\n",
    "# assert len(args.loss_contrib) == len(args.losses)\n",
    "\n",
    "# args.metrics = munch.munchify({\n",
    "#     \"seg/dice\": M.DiceMetric(include_background=True, reduction=\"mean\"),\n",
    "#     \"seg/mse\": M.MSEMetric()\n",
    "# })\n",
    "\n",
    "\n",
    "# args.optimizer = torch.optim.Adam\n",
    "# args.optimizer_params = munch.munchify({\n",
    "#     'lr': 5e-3,\n",
    "#     'betas':(0.9, 0.999),\n",
    "#     'eps': 1e-08,\n",
    "#     'weight_decay': 0\n",
    "# })\n",
    "\n",
    "\n",
    "args.optimizer = torch.optim.SGD\n",
    "args.optimizer_params = munch.munchify({\"lr\": 5e-3, \"momentum\": 0.9})\n",
    "\n",
    "# args.optimizer = torch.optim.Adam\n",
    "# args.optimizer_params = munch.munchify({\n",
    "#     'lr': 5e-2,\n",
    "#     'betas':(0.9, 0.999),\n",
    "#     'eps': 1e-08,\n",
    "#     'weight_decay': 0.9\n",
    "# })\n",
    "\n",
    "# args.scheduler = torch.optim.lr_scheduler.ReduceLROnPlateau\n",
    "# args.scheduler_params = munch.munchify({\n",
    "#     'mode':'min',\n",
    "#     'factor': 0.1,\n",
    "#     'patience': 10,\n",
    "#     'verbose': True,\n",
    "#     'min_lr': 1e-6\n",
    "# })\n",
    "\n",
    "# args.scheduler = torch.optim.lr_scheduler.MultiStepLR\n",
    "# args.scheduler_params = munch.munchify({\n",
    "#     'milestones': [50, 100, 150, 200],\n",
    "#     'gamma': 0.2\n",
    "# })\n",
    "\n",
    "args.scheduler = torch.optim.lr_scheduler.OneCycleLR\n",
    "args.scheduler_params = munch.munchify(\n",
    "    {\n",
    "        \"max_lr\": 1e-2,\n",
    "        \"total_steps\": None,\n",
    "        \"pct_start\": 0.3,\n",
    "        \"anneal_strategy\": \"cos\",\n",
    "        \"cycle_momentum\": True,\n",
    "        \"base_momentum\": 0.85,\n",
    "        \"max_momentum\": 0.95,\n",
    "        \"div_factor\": 25.0,\n",
    "        \"final_div_factor\": 10000.0,\n",
    "        \"three_phase\": False,\n",
    "        \"last_epoch\": -1,\n",
    "        \"verbose\": False,\n",
    "    }\n",
    ")\n",
    "\n",
    "# args.scheduler = torch.optim.lr_scheduler.CyclicLR\n",
    "# args.scheduler_params = munch.munchify({\n",
    "#     \"base_lr\": 5e-4,\n",
    "#     \"max_lr\": 5e-2\n",
    "# })\n",
    "\n",
    "\n",
    "# args.sampler = None\n",
    "\n",
    "# args.dataset_type = \"3D\"\n",
    "# args.dataset_class = qtrain.dataset.infarct.InfarctDataset3D\n",
    "# args.dataset_module = qtrain.dataset.infarct.InfarctDataModule\n",
    "\n",
    "# args.model = qtrain.models.fresnet.model.FusionResnet\n",
    "# args.model_params_star_pass = True\n",
    "# args.model_params = munch.munchify({\n",
    "#     \"resnet\": \"seresnet50\",\n",
    "#     \"attn_mode\":\"softminmax\",\n",
    "#     \"img_size\": (args.n_slices, args.img_size, args.img_size)\n",
    "# })\n",
    "\n",
    "# args.model = \"se_multitasker\"\n",
    "args.model = \"multitask_qer\"\n",
    "args.encoder_name = \"se_resnet50\"\n",
    "\n",
    "# import qtrain.models.unet.unet2dseqattn\n",
    "# args.model = qtrain.models.unet.unet2dseqattn.UnetSeqAttn\n",
    "# args.model_params_star_pass = False\n",
    "args.model_params = munch.munchify(\n",
    "    {\n",
    "        \"encoder_name\": args.encoder_name,\n",
    "        \"in_channels\": 3,\n",
    "        \"depth\": 4,\n",
    "        \"output_stride\": 16,\n",
    "        \"decoder_channels\": (128, 64, 32, 16),\n",
    "        \"use_batchnorm\": True,\n",
    "        \"attention_type\": \"scse\",\n",
    "        \"n_segmaps\": 2,\n",
    "        \"seg_activation\": None,\n",
    "        \"kernel_size\": 5,\n",
    "        \"cls_nclasses\": 2,\n",
    "        \"cls_pooling\": \"avg\",\n",
    "        \"cls_dropout\": 0.3,\n",
    "        \"cls_ac_nclasses\": 2,\n",
    "        \"cls_ac_pooling\": \"avg\",\n",
    "        \"cls_ac_dropout\": 0.3,\n",
    "        \"cls_normal_nclasses\": 2,\n",
    "        \"cls_normal_pooling\": \"avg\",\n",
    "        \"cls_normal_dropout\": 0.3,\n",
    "        \"n_slices\": args.n_slices,\n",
    "    }\n",
    ")\n",
    "\n",
    "\n",
    "# Unet3d\n",
    "# args.model_params = munch.munchify({\n",
    "#     \"spatial_dims\": 3,\n",
    "#     \"in_channels\": 3,\n",
    "#     \"out_channels\": 1,\n",
    "#     \"channels\": (8, 16, 32, 64),\n",
    "#     \"strides\": (2, 2, 2),\n",
    "#     \"kernel_size\": 5,\n",
    "#     \"up_kernel_size\": 5,\n",
    "#     \"num_res_units\": 15,\n",
    "#     \"act\": 'PRELU',\n",
    "#     \"norm\": 'INSTANCE',\n",
    "#     \"dropout\": 0.2,\n",
    "#     \"bias\": True,\n",
    "#     \"adn_ordering\": 'NDA'\n",
    "# })"
   ]
  },
  {
   "cell_type": "code",
   "execution_count": 17,
   "id": "afdcfdf7",
   "metadata": {},
   "outputs": [],
   "source": [
    "args.fast_batch_size = 4\n",
    "# args.overfit_batches=0.01\n",
    "args.fast_dev_run = False\n",
    "\n",
    "with open(\"../configs/multitasker_seresnet50_02_08_23.yaml\", \"w\") as f:\n",
    "    yaml.dump(args, f)"
   ]
  },
  {
   "cell_type": "code",
   "execution_count": 146,
   "id": "7328cf78",
   "metadata": {},
   "outputs": [],
   "source": [
    "with open(\"../configs/multitasker_512_seresnet50_02_08_23.yaml\", \"r\") as f:\n",
    "    args_yaml = munch.munchify(yaml.load(f, Loader=yaml.Loader))"
   ]
  },
  {
   "cell_type": "code",
   "execution_count": 148,
   "id": "5f8be9ec",
   "metadata": {},
   "outputs": [
    {
     "data": {
      "text/plain": [
       "'resnet34'"
      ]
     },
     "execution_count": 148,
     "metadata": {},
     "output_type": "execute_result"
    }
   ],
   "source": [
    "args_yaml.encoder_name"
   ]
  },
  {
   "cell_type": "code",
   "execution_count": 30,
   "id": "79587eae",
   "metadata": {},
   "outputs": [],
   "source": [
    "import torch, torchmetrics as tm"
   ]
  },
  {
   "cell_type": "code",
   "execution_count": 32,
   "id": "31680d85",
   "metadata": {},
   "outputs": [],
   "source": [
    "miou = tm.classification.JaccardIndex(task=\"binary\", num_classes=2, ignore_index=-100)"
   ]
  },
  {
   "cell_type": "code",
   "execution_count": 37,
   "id": "8c645732",
   "metadata": {},
   "outputs": [
    {
     "data": {
      "text/plain": [
       "tensor(nan)"
      ]
     },
     "execution_count": 37,
     "metadata": {},
     "output_type": "execute_result"
    }
   ],
   "source": [
    "miou(\n",
    "    torch.ones((3, 224, 224)),\n",
    "    torch.vstack([torch.ones((1, 224, 224)) * -100, torch.ones((2, 224, 224)) * -100]),\n",
    ")"
   ]
  },
  {
   "cell_type": "code",
   "execution_count": 41,
   "id": "6bda5952",
   "metadata": {},
   "outputs": [],
   "source": [
    "gt = torch.vstack(\n",
    "    [\n",
    "        torch.ones((1, 224, 224)) * -100,\n",
    "        torch.zeros((2, 224, 224)),\n",
    "        torch.ones((2, 224, 224)),\n",
    "    ]\n",
    ")"
   ]
  },
  {
   "cell_type": "code",
   "execution_count": 44,
   "id": "30bfe098",
   "metadata": {},
   "outputs": [],
   "source": [
    "gt[gt.sum(axis=(1, 2)) <= 0] = -100"
   ]
  },
  {
   "cell_type": "code",
   "execution_count": 49,
   "id": "b303bdd4",
   "metadata": {},
   "outputs": [
    {
     "data": {
      "text/plain": [
       "tensor([[-100., -100., -100.,  ..., -100., -100., -100.],\n",
       "        [-100., -100., -100.,  ..., -100., -100., -100.],\n",
       "        [-100., -100., -100.,  ..., -100., -100., -100.],\n",
       "        ...,\n",
       "        [-100., -100., -100.,  ..., -100., -100., -100.],\n",
       "        [-100., -100., -100.,  ..., -100., -100., -100.],\n",
       "        [-100., -100., -100.,  ..., -100., -100., -100.]])"
      ]
     },
     "execution_count": 49,
     "metadata": {},
     "output_type": "execute_result"
    }
   ],
   "source": [
    "gt[0]"
   ]
  },
  {
   "cell_type": "code",
   "execution_count": null,
   "id": "d0d1c3de",
   "metadata": {},
   "outputs": [],
   "source": [
    "gt[gt.sum(axis=(2, 3)) <= 0] = self.ignore_index"
   ]
  },
  {
   "cell_type": "code",
   "execution_count": 46,
   "id": "2125bb9d",
   "metadata": {},
   "outputs": [
    {
     "data": {
      "text/plain": [
       "tensor([])"
      ]
     },
     "execution_count": 46,
     "metadata": {},
     "output_type": "execute_result"
    }
   ],
   "source": [
    "gt = torch.tensor([-100, -100])\n",
    "pred = torch.tensor([0.5, 0.5])\n",
    "gt_ = gt[gt > 0]\n",
    "pred[gt > 0]"
   ]
  },
  {
   "cell_type": "code",
   "execution_count": 52,
   "id": "53474b1d",
   "metadata": {},
   "outputs": [
    {
     "data": {
      "text/plain": [
       "tensor(0., dtype=torch.float64)"
      ]
     },
     "execution_count": 52,
     "metadata": {},
     "output_type": "execute_result"
    }
   ],
   "source": [
    "torch.mean(\n",
    "    torch.nn.BCEWithLogitsLoss(reduction=\"none\")(pred.double(), gt.double()) * (gt > 0)\n",
    ")"
   ]
  },
  {
   "cell_type": "code",
   "execution_count": 59,
   "id": "697c8785",
   "metadata": {},
   "outputs": [
    {
     "data": {
      "text/plain": [
       "(torch.Size([1, 2, 2]), torch.Size([1, 1, 2]))"
      ]
     },
     "execution_count": 59,
     "metadata": {},
     "output_type": "execute_result"
    }
   ],
   "source": [
    "torch.tensor([[[0.3, 0.2], [0.5, 0.3]]]), torch.tensor([[[-100, -100]]])"
   ]
  },
  {
   "cell_type": "code",
   "execution_count": 63,
   "id": "d6a5aacd",
   "metadata": {},
   "outputs": [],
   "source": [
    "gt = torch.ones(120, 224, 224) * -100"
   ]
  },
  {
   "cell_type": "code",
   "execution_count": 95,
   "id": "8334791a",
   "metadata": {},
   "outputs": [],
   "source": [
    "gt = torch.vstack([torch.ones(60, 224, 224) * -100, torch.ones(60, 224, 224) * -100])"
   ]
  },
  {
   "cell_type": "code",
   "execution_count": 97,
   "id": "6d828392",
   "metadata": {},
   "outputs": [
    {
     "data": {
      "text/plain": [
       "tensor([0.2328, 0.5071, 0.3637,  ..., 0.4482, 0.1661, 1.0009])"
      ]
     },
     "execution_count": 97,
     "metadata": {},
     "output_type": "execute_result"
    }
   ],
   "source": [
    "a = smp.losses.FocalLoss(mode=\"multiclass\", ignore_index=-100, reduction=\"none\")(\n",
    "    torch.randn(120, 2, 224, 224), torch.ones_like(gt)\n",
    ")\n",
    "a"
   ]
  },
  {
   "cell_type": "code",
   "execution_count": 105,
   "id": "fe8efc03",
   "metadata": {},
   "outputs": [
    {
     "data": {
      "text/plain": [
       "torch.Size([6021120])"
      ]
     },
     "execution_count": 105,
     "metadata": {},
     "output_type": "execute_result"
    }
   ],
   "source": [
    "gt.flatten().shape"
   ]
  },
  {
   "cell_type": "code",
   "execution_count": 106,
   "id": "cc46a700",
   "metadata": {},
   "outputs": [
    {
     "data": {
      "text/plain": [
       "tensor(0.)"
      ]
     },
     "execution_count": 106,
     "metadata": {},
     "output_type": "execute_result"
    }
   ],
   "source": [
    "torch.mean(a * (gt.flatten() >= 0))"
   ]
  },
  {
   "cell_type": "code",
   "execution_count": 107,
   "id": "0f6ab787",
   "metadata": {},
   "outputs": [
    {
     "data": {
      "text/plain": [
       "tensor(True)"
      ]
     },
     "execution_count": 107,
     "metadata": {},
     "output_type": "execute_result"
    }
   ],
   "source": [
    "torch.all(gt == -100)"
   ]
  },
  {
   "cell_type": "code",
   "execution_count": 110,
   "id": "d6845154",
   "metadata": {},
   "outputs": [],
   "source": [
    "import torchmetrics as tm\n",
    "\n",
    "miou = tm.JaccardIndex(task=\"binary\", num_classes=2, ignore_index=-100, average=\"none\")"
   ]
  },
  {
   "cell_type": "code",
   "execution_count": 114,
   "id": "1a1c667c",
   "metadata": {},
   "outputs": [
    {
     "name": "stderr",
     "output_type": "stream",
     "text": [
      "/tmp/ipykernel_3421264/504142527.py:1: UserWarning:\n",
      "\n",
      "Implicit dimension choice for softmax has been deprecated. Change the call to include dim=X as an argument.\n",
      "\n"
     ]
    },
    {
     "data": {
      "text/plain": [
       "torch.Size([120, 224, 224])"
      ]
     },
     "execution_count": 114,
     "metadata": {},
     "output_type": "execute_result"
    }
   ],
   "source": [
    "torch.nn.functional.softmax(torch.randn(120, 2, 224, 224)).argmax(1).shape"
   ]
  },
  {
   "cell_type": "code",
   "execution_count": 116,
   "id": "127cf18b",
   "metadata": {},
   "outputs": [
    {
     "name": "stderr",
     "output_type": "stream",
     "text": [
      "/tmp/ipykernel_3421264/2407387451.py:1: UserWarning:\n",
      "\n",
      "Implicit dimension choice for softmax has been deprecated. Change the call to include dim=X as an argument.\n",
      "\n"
     ]
    },
    {
     "data": {
      "text/plain": [
       "tensor(0.5004)"
      ]
     },
     "execution_count": 116,
     "metadata": {},
     "output_type": "execute_result"
    }
   ],
   "source": [
    "miou(\n",
    "    torch.nn.functional.softmax(torch.randn(120, 2, 224, 224)).argmax(1),\n",
    "    torch.ones_like(gt),\n",
    ")"
   ]
  },
  {
   "cell_type": "code",
   "execution_count": 85,
   "id": "58a4ec4d",
   "metadata": {},
   "outputs": [
    {
     "data": {
      "text/plain": [
       "torch.Size([])"
      ]
     },
     "execution_count": 85,
     "metadata": {},
     "output_type": "execute_result"
    }
   ],
   "source": [
    "gt.sum(axis=(0, 1, 2)).shape"
   ]
  },
  {
   "cell_type": "code",
   "execution_count": 81,
   "id": "a4795963",
   "metadata": {},
   "outputs": [
    {
     "ename": "RuntimeError",
     "evalue": "The size of tensor a (6021120) must match the size of tensor b (120) at non-singleton dimension 0",
     "output_type": "error",
     "traceback": [
      "\u001b[0;31m---------------------------------------------------------------------------\u001b[0m",
      "\u001b[0;31mRuntimeError\u001b[0m                              Traceback (most recent call last)",
      "Cell \u001b[0;32mIn[81], line 1\u001b[0m\n\u001b[0;32m----> 1\u001b[0m \u001b[43ma\u001b[49m\u001b[38;5;241;43m*\u001b[39;49m\u001b[43m(\u001b[49m\u001b[43mgt\u001b[49m\u001b[38;5;241;43m.\u001b[39;49m\u001b[43msum\u001b[49m\u001b[43m(\u001b[49m\u001b[43maxis\u001b[49m\u001b[38;5;241;43m=\u001b[39;49m\u001b[43m(\u001b[49m\u001b[38;5;241;43m1\u001b[39;49m\u001b[43m,\u001b[49m\u001b[38;5;241;43m2\u001b[39;49m\u001b[43m)\u001b[49m\u001b[43m)\u001b[49m\u001b[38;5;241;43m>\u001b[39;49m\u001b[38;5;241;43m=\u001b[39;49m\u001b[38;5;241;43m0\u001b[39;49m\u001b[43m)\u001b[49m\n",
      "\u001b[0;31mRuntimeError\u001b[0m: The size of tensor a (6021120) must match the size of tensor b (120) at non-singleton dimension 0"
     ]
    }
   ],
   "source": [
    "a * (gt.sum(axis=(1, 2)) >= 0)"
   ]
  },
  {
   "cell_type": "code",
   "execution_count": 60,
   "id": "f5c136d8",
   "metadata": {},
   "outputs": [
    {
     "ename": "IndexError",
     "evalue": "too many indices for tensor of dimension 2",
     "output_type": "error",
     "traceback": [
      "\u001b[0;31m---------------------------------------------------------------------------\u001b[0m",
      "\u001b[0;31mIndexError\u001b[0m                                Traceback (most recent call last)",
      "Cell \u001b[0;32mIn[60], line 1\u001b[0m\n\u001b[0;32m----> 1\u001b[0m \u001b[43msmp\u001b[49m\u001b[38;5;241;43m.\u001b[39;49m\u001b[43mlosses\u001b[49m\u001b[38;5;241;43m.\u001b[39;49m\u001b[43mFocalLoss\u001b[49m\u001b[43m(\u001b[49m\u001b[43mmode\u001b[49m\u001b[38;5;241;43m=\u001b[39;49m\u001b[38;5;124;43m\"\u001b[39;49m\u001b[38;5;124;43mmulticlass\u001b[39;49m\u001b[38;5;124;43m\"\u001b[39;49m\u001b[43m,\u001b[49m\u001b[43m \u001b[49m\u001b[43mignore_index\u001b[49m\u001b[38;5;241;43m=\u001b[39;49m\u001b[38;5;241;43m-\u001b[39;49m\u001b[38;5;241;43m100\u001b[39;49m\u001b[43m)\u001b[49m\u001b[43m(\u001b[49m\u001b[43mtorch\u001b[49m\u001b[38;5;241;43m.\u001b[39;49m\u001b[43mtensor\u001b[49m\u001b[43m(\u001b[49m\u001b[43m[\u001b[49m\u001b[43m[\u001b[49m\u001b[43m[\u001b[49m\u001b[38;5;241;43m0.3\u001b[39;49m\u001b[43m,\u001b[49m\u001b[38;5;241;43m0.2\u001b[39;49m\u001b[43m]\u001b[49m\u001b[43m,\u001b[49m\u001b[43m[\u001b[49m\u001b[38;5;241;43m0.5\u001b[39;49m\u001b[43m,\u001b[49m\u001b[38;5;241;43m0.3\u001b[39;49m\u001b[43m]\u001b[49m\u001b[43m]\u001b[49m\u001b[43m]\u001b[49m\u001b[43m)\u001b[49m\u001b[43m,\u001b[49m\u001b[43m \u001b[49m\u001b[43mtorch\u001b[49m\u001b[38;5;241;43m.\u001b[39;49m\u001b[43mtensor\u001b[49m\u001b[43m(\u001b[49m\u001b[43m[\u001b[49m\u001b[43m[\u001b[49m\u001b[43m[\u001b[49m\u001b[38;5;241;43m-\u001b[39;49m\u001b[38;5;241;43m100\u001b[39;49m\u001b[43m,\u001b[49m\u001b[38;5;241;43m-\u001b[39;49m\u001b[38;5;241;43m100\u001b[39;49m\u001b[43m]\u001b[49m\u001b[43m]\u001b[49m\u001b[43m]\u001b[49m\u001b[43m)\u001b[49m\u001b[43m)\u001b[49m\n",
      "File \u001b[0;32m~/miniconda3/envs/train/lib/python3.9/site-packages/torch/nn/modules/module.py:1501\u001b[0m, in \u001b[0;36mModule._call_impl\u001b[0;34m(self, *args, **kwargs)\u001b[0m\n\u001b[1;32m   1496\u001b[0m \u001b[38;5;66;03m# If we don't have any hooks, we want to skip the rest of the logic in\u001b[39;00m\n\u001b[1;32m   1497\u001b[0m \u001b[38;5;66;03m# this function, and just call forward.\u001b[39;00m\n\u001b[1;32m   1498\u001b[0m \u001b[38;5;28;01mif\u001b[39;00m \u001b[38;5;129;01mnot\u001b[39;00m (\u001b[38;5;28mself\u001b[39m\u001b[38;5;241m.\u001b[39m_backward_hooks \u001b[38;5;129;01mor\u001b[39;00m \u001b[38;5;28mself\u001b[39m\u001b[38;5;241m.\u001b[39m_backward_pre_hooks \u001b[38;5;129;01mor\u001b[39;00m \u001b[38;5;28mself\u001b[39m\u001b[38;5;241m.\u001b[39m_forward_hooks \u001b[38;5;129;01mor\u001b[39;00m \u001b[38;5;28mself\u001b[39m\u001b[38;5;241m.\u001b[39m_forward_pre_hooks\n\u001b[1;32m   1499\u001b[0m         \u001b[38;5;129;01mor\u001b[39;00m _global_backward_pre_hooks \u001b[38;5;129;01mor\u001b[39;00m _global_backward_hooks\n\u001b[1;32m   1500\u001b[0m         \u001b[38;5;129;01mor\u001b[39;00m _global_forward_hooks \u001b[38;5;129;01mor\u001b[39;00m _global_forward_pre_hooks):\n\u001b[0;32m-> 1501\u001b[0m     \u001b[38;5;28;01mreturn\u001b[39;00m \u001b[43mforward_call\u001b[49m\u001b[43m(\u001b[49m\u001b[38;5;241;43m*\u001b[39;49m\u001b[43margs\u001b[49m\u001b[43m,\u001b[49m\u001b[43m \u001b[49m\u001b[38;5;241;43m*\u001b[39;49m\u001b[38;5;241;43m*\u001b[39;49m\u001b[43mkwargs\u001b[49m\u001b[43m)\u001b[49m\n\u001b[1;32m   1502\u001b[0m \u001b[38;5;66;03m# Do not call functions when jit is used\u001b[39;00m\n\u001b[1;32m   1503\u001b[0m full_backward_hooks, non_full_backward_hooks \u001b[38;5;241m=\u001b[39m [], []\n",
      "File \u001b[0;32m~/miniconda3/envs/train/lib/python3.9/site-packages/segmentation_models_pytorch/losses/focal.py:86\u001b[0m, in \u001b[0;36mFocalLoss.forward\u001b[0;34m(self, y_pred, y_true)\u001b[0m\n\u001b[1;32m     84\u001b[0m         \u001b[38;5;28;01mif\u001b[39;00m \u001b[38;5;28mself\u001b[39m\u001b[38;5;241m.\u001b[39mignore_index \u001b[38;5;129;01mis\u001b[39;00m \u001b[38;5;129;01mnot\u001b[39;00m \u001b[38;5;28;01mNone\u001b[39;00m:\n\u001b[1;32m     85\u001b[0m             cls_y_true \u001b[38;5;241m=\u001b[39m cls_y_true[not_ignored]\n\u001b[0;32m---> 86\u001b[0m             cls_y_pred \u001b[38;5;241m=\u001b[39m \u001b[43mcls_y_pred\u001b[49m\u001b[43m[\u001b[49m\u001b[43mnot_ignored\u001b[49m\u001b[43m]\u001b[49m\n\u001b[1;32m     88\u001b[0m         loss \u001b[38;5;241m+\u001b[39m\u001b[38;5;241m=\u001b[39m \u001b[38;5;28mself\u001b[39m\u001b[38;5;241m.\u001b[39mfocal_loss_fn(cls_y_pred, cls_y_true)\n\u001b[1;32m     90\u001b[0m \u001b[38;5;28;01mreturn\u001b[39;00m loss\n",
      "\u001b[0;31mIndexError\u001b[0m: too many indices for tensor of dimension 2"
     ]
    }
   ],
   "source": [
    "smp.losses.FocalLoss(mode=\"multiclass\", ignore_index=-100)(\n",
    "    torch.tensor([[[0.3, 0.2], [0.5, 0.3]]]), torch.tensor([[[-100, -100]]])\n",
    ")"
   ]
  },
  {
   "cell_type": "code",
   "execution_count": 44,
   "id": "170f9c51",
   "metadata": {},
   "outputs": [
    {
     "ename": "RuntimeError",
     "evalue": "The size of tensor a (2) must match the size of tensor b (0) at non-singleton dimension 0",
     "output_type": "error",
     "traceback": [
      "\u001b[0;31m---------------------------------------------------------------------------\u001b[0m",
      "\u001b[0;31mRuntimeError\u001b[0m                              Traceback (most recent call last)",
      "Cell \u001b[0;32mIn[44], line 1\u001b[0m\n\u001b[0;32m----> 1\u001b[0m \u001b[43m(\u001b[49m\u001b[43mtorch\u001b[49m\u001b[38;5;241;43m.\u001b[39;49m\u001b[43mtensor\u001b[49m\u001b[43m(\u001b[49m\u001b[43m[\u001b[49m\u001b[38;5;241;43m-\u001b[39;49m\u001b[38;5;241;43m100\u001b[39;49m\u001b[43m,\u001b[49m\u001b[38;5;241;43m-\u001b[39;49m\u001b[38;5;241;43m100\u001b[39;49m\u001b[43m]\u001b[49m\u001b[43m)\u001b[49m\u001b[38;5;241;43m>\u001b[39;49m\u001b[38;5;241;43m=\u001b[39;49m\u001b[38;5;241;43m0\u001b[39;49m\u001b[43m)\u001b[49m\u001b[38;5;241;43m*\u001b[39;49m\u001b[43mtorch\u001b[49m\u001b[38;5;241;43m.\u001b[39;49m\u001b[43mnn\u001b[49m\u001b[38;5;241;43m.\u001b[39;49m\u001b[43mBCEWithLogitsLoss\u001b[49m\u001b[43m(\u001b[49m\u001b[43mreduction\u001b[49m\u001b[38;5;241;43m=\u001b[39;49m\u001b[38;5;124;43m'\u001b[39;49m\u001b[38;5;124;43mnone\u001b[39;49m\u001b[38;5;124;43m'\u001b[39;49m\u001b[43m)\u001b[49m\u001b[43m(\u001b[49m\u001b[43mtorch\u001b[49m\u001b[38;5;241;43m.\u001b[39;49m\u001b[43mtensor\u001b[49m\u001b[43m(\u001b[49m\u001b[43m[\u001b[49m\u001b[38;5;241;43m0.5\u001b[39;49m\u001b[43m,\u001b[49m\u001b[43m \u001b[49m\u001b[38;5;241;43m0.5\u001b[39;49m\u001b[43m]\u001b[49m\u001b[43m)\u001b[49m\u001b[43m[\u001b[49m\u001b[43mtorch\u001b[49m\u001b[38;5;241;43m.\u001b[39;49m\u001b[43mtensor\u001b[49m\u001b[43m(\u001b[49m\u001b[43m[\u001b[49m\u001b[38;5;241;43m-\u001b[39;49m\u001b[38;5;241;43m100\u001b[39;49m\u001b[43m,\u001b[49m\u001b[38;5;241;43m-\u001b[39;49m\u001b[38;5;241;43m100\u001b[39;49m\u001b[43m]\u001b[49m\u001b[43m)\u001b[49m\u001b[38;5;241;43m>\u001b[39;49m\u001b[38;5;241;43m=\u001b[39;49m\u001b[38;5;241;43m0\u001b[39;49m\u001b[43m]\u001b[49m\u001b[38;5;241;43m.\u001b[39;49m\u001b[43mdouble\u001b[49m\u001b[43m(\u001b[49m\u001b[43m)\u001b[49m\u001b[43m,\u001b[49m\u001b[43m \u001b[49m\u001b[43mtorch\u001b[49m\u001b[38;5;241;43m.\u001b[39;49m\u001b[43mtensor\u001b[49m\u001b[43m(\u001b[49m\u001b[43m[\u001b[49m\u001b[38;5;241;43m-\u001b[39;49m\u001b[38;5;241;43m100\u001b[39;49m\u001b[43m,\u001b[49m\u001b[38;5;241;43m-\u001b[39;49m\u001b[38;5;241;43m100\u001b[39;49m\u001b[43m]\u001b[49m\u001b[43m)\u001b[49m\u001b[43m[\u001b[49m\u001b[43mtorch\u001b[49m\u001b[38;5;241;43m.\u001b[39;49m\u001b[43mtensor\u001b[49m\u001b[43m(\u001b[49m\u001b[43m[\u001b[49m\u001b[38;5;241;43m-\u001b[39;49m\u001b[38;5;241;43m100\u001b[39;49m\u001b[43m,\u001b[49m\u001b[38;5;241;43m-\u001b[39;49m\u001b[38;5;241;43m100\u001b[39;49m\u001b[43m]\u001b[49m\u001b[43m)\u001b[49m\u001b[38;5;241;43m>\u001b[39;49m\u001b[38;5;241;43m=\u001b[39;49m\u001b[38;5;241;43m0\u001b[39;49m\u001b[43m]\u001b[49m\u001b[38;5;241;43m.\u001b[39;49m\u001b[43mdouble\u001b[49m\u001b[43m(\u001b[49m\u001b[43m)\u001b[49m\u001b[43m)\u001b[49m\n",
      "\u001b[0;31mRuntimeError\u001b[0m: The size of tensor a (2) must match the size of tensor b (0) at non-singleton dimension 0"
     ]
    }
   ],
   "source": [
    "(torch.tensor([-100, -100]) >= 0) * torch.nn.BCEWithLogitsLoss(reduction=\"none\")(\n",
    "    torch.tensor([0.5, 0.5])[torch.tensor([-100, -100]) >= 0].double(),\n",
    "    torch.tensor([-100, -100])[torch.tensor([-100, -100]) >= 0].double(),\n",
    ")"
   ]
  },
  {
   "cell_type": "code",
   "execution_count": 41,
   "id": "4a61ae49",
   "metadata": {},
   "outputs": [
    {
     "data": {
      "text/plain": [
       "tensor([50.9741, 50.9741], dtype=torch.float64)"
      ]
     },
     "execution_count": 41,
     "metadata": {},
     "output_type": "execute_result"
    }
   ],
   "source": []
  },
  {
   "cell_type": "code",
   "execution_count": 99,
   "id": "12c485e1",
   "metadata": {},
   "outputs": [
    {
     "data": {
      "text/plain": [
       "tensor([[[[[-9.1304e-01, -1.3708e+00,  1.1664e+00,  ...,  7.0140e-01,\n",
       "            -7.9347e-02, -2.4437e+00],\n",
       "           [-3.8923e+00,  2.4273e+00,  5.2375e-01,  ..., -2.3388e+00,\n",
       "             3.4612e+00,  3.3114e+00],\n",
       "           [ 3.3569e+00,  2.9452e-01,  8.8207e-01,  ..., -5.6504e-02,\n",
       "            -2.9874e-01,  1.6887e+00],\n",
       "           ...,\n",
       "           [ 1.1366e+00,  1.4243e+00,  7.8247e-01,  ...,  2.0315e+00,\n",
       "            -1.7737e+00, -7.4019e-01],\n",
       "           [ 5.8112e+00, -1.2881e+00, -1.4819e+00,  ...,  9.4211e-01,\n",
       "            -3.2278e-01,  1.1619e+00],\n",
       "           [ 5.6657e-01, -1.5852e+00, -2.0359e+00,  ...,  1.5124e+00,\n",
       "             2.5323e+00,  1.2553e+00]],\n",
       "\n",
       "          [[-9.0239e-01,  1.8768e+00,  8.1895e-01,  ..., -1.7609e+00,\n",
       "             1.1886e+00,  3.9934e+00],\n",
       "           [-7.9912e-01,  2.8844e-01, -1.4142e+00,  ..., -2.1516e+00,\n",
       "            -8.1035e-01, -7.3700e-01],\n",
       "           [-1.8195e+00,  7.9811e-02, -1.8360e+00,  ...,  7.8954e-01,\n",
       "             5.3233e+00,  2.4375e-01],\n",
       "           ...,\n",
       "           [-4.1291e+00,  2.4133e-01,  1.5486e+00,  ..., -1.3830e+00,\n",
       "            -1.5196e-01,  3.2571e+00],\n",
       "           [ 1.7943e+00,  3.2580e+00, -4.1969e-01,  ...,  5.0877e-01,\n",
       "             1.9254e+00,  1.3461e+00],\n",
       "           [ 2.0596e+00,  3.0196e+00,  1.8705e+00,  ..., -1.4586e+00,\n",
       "            -3.3398e+00,  1.1693e+00]]],\n",
       "\n",
       "\n",
       "         [[[-1.8993e-01, -1.8952e-01, -5.4932e-01,  ..., -5.1148e-01,\n",
       "             1.5844e+00, -4.8179e-01],\n",
       "           [ 4.9124e-02, -4.8793e-01,  4.4288e-01,  ...,  5.3989e-01,\n",
       "             2.9828e+00, -1.3249e+00],\n",
       "           [-9.4324e-02, -2.4598e+00,  2.5624e+00,  ..., -2.4811e+00,\n",
       "             8.8477e-01, -5.4485e-01],\n",
       "           ...,\n",
       "           [-1.2954e+00,  4.5567e+00, -1.4942e+00,  ..., -7.6077e-01,\n",
       "            -8.8946e-01,  1.2734e+00],\n",
       "           [-4.1771e-01, -2.3859e+00,  4.0563e+00,  ..., -2.7844e-01,\n",
       "             6.8028e-01, -4.5444e+00],\n",
       "           [ 1.1869e+00,  8.8946e-01, -3.9955e-02,  ...,  2.1368e+00,\n",
       "             1.9475e+00,  7.6277e-01]],\n",
       "\n",
       "          [[-1.2061e+00,  1.0010e+00,  2.6837e+00,  ..., -6.7361e-01,\n",
       "             3.1254e+00,  5.1393e-01],\n",
       "           [ 1.2238e+00, -2.5388e+00,  2.6061e-01,  ...,  2.1915e+00,\n",
       "             2.6456e+00,  1.6885e+00],\n",
       "           [ 1.7911e+00,  3.6811e+00,  2.4599e+00,  ...,  9.9194e-01,\n",
       "            -9.4662e-01,  6.9943e-01],\n",
       "           ...,\n",
       "           [-1.7289e+00,  3.1059e+00, -1.5089e+00,  ..., -4.4264e-01,\n",
       "            -4.9120e-01, -8.3698e-01],\n",
       "           [ 1.0839e+00, -3.8237e+00,  3.7179e+00,  ...,  1.6468e-01,\n",
       "            -2.1304e+00, -1.0746e+00],\n",
       "           [-3.8228e-01,  2.0956e+00, -7.5506e-02,  ...,  1.4879e+00,\n",
       "             6.3311e-01,  4.1089e+00]]],\n",
       "\n",
       "\n",
       "         [[[-3.3491e+00, -9.8955e-01,  2.1357e+00,  ...,  4.2649e-01,\n",
       "             2.3204e+00, -2.9626e-01],\n",
       "           [-2.1922e+00,  1.8347e-01, -3.9823e+00,  ..., -3.1236e+00,\n",
       "             1.3996e+00, -9.1425e-01],\n",
       "           [ 8.9276e-02,  2.5490e-01, -2.7339e+00,  ...,  8.4760e-02,\n",
       "             9.3559e-01, -4.7854e-01],\n",
       "           ...,\n",
       "           [ 8.2263e-02, -3.4877e+00,  1.4298e+00,  ...,  1.9810e-01,\n",
       "             1.6724e+00,  4.6552e+00],\n",
       "           [-7.6127e-01,  3.4388e-01,  5.1217e-01,  ..., -6.4941e-01,\n",
       "             1.0038e+00, -2.4856e+00],\n",
       "           [ 2.4694e+00,  3.3283e+00, -5.6122e-02,  ..., -8.5180e-01,\n",
       "             4.4152e-01, -4.8446e-01]],\n",
       "\n",
       "          [[-1.7767e+00,  2.9471e+00, -3.0280e+00,  ..., -2.8376e-01,\n",
       "            -6.4158e-01, -1.7422e+00],\n",
       "           [-3.7804e+00,  2.8834e+00, -2.5254e+00,  ...,  1.3953e-01,\n",
       "            -7.5625e-01,  1.9866e+00],\n",
       "           [-2.1540e+00,  7.5725e-01, -1.9548e-01,  ...,  8.9661e-01,\n",
       "             1.2852e+00,  1.3113e+00],\n",
       "           ...,\n",
       "           [-2.6199e+00,  1.0332e+00, -2.0476e+00,  ..., -3.0483e+00,\n",
       "            -3.1720e+00, -1.9488e+00],\n",
       "           [-2.5274e-01,  2.4241e+00, -1.6574e+00,  ..., -9.8589e-01,\n",
       "             1.1442e+00, -9.4375e-01],\n",
       "           [ 4.4274e-01,  1.3011e+00,  2.0530e+00,  ..., -1.1427e+00,\n",
       "             2.3756e-01,  9.6428e-01]]],\n",
       "\n",
       "\n",
       "         ...,\n",
       "\n",
       "\n",
       "         [[[ 3.4648e+00,  1.0946e+00, -7.2220e-01,  ..., -1.7942e-01,\n",
       "            -1.4924e+00,  9.9607e-01],\n",
       "           [ 1.2828e+00,  1.8073e+00, -5.8680e+00,  ..., -2.5168e+00,\n",
       "             2.5241e-01, -3.2978e+00],\n",
       "           [-2.8315e+00,  1.4518e+00,  2.8375e-01,  ...,  1.8292e+00,\n",
       "            -4.2620e+00, -1.6216e+00],\n",
       "           ...,\n",
       "           [ 2.3839e-01,  8.3823e-01, -4.5867e-01,  ..., -1.4875e+00,\n",
       "             7.4986e-02,  1.0057e+00],\n",
       "           [ 2.8208e+00, -2.8932e+00, -2.2716e-01,  ...,  1.6185e+00,\n",
       "            -2.3158e+00,  2.8015e+00],\n",
       "           [ 4.7085e-01, -1.0283e+00,  6.2373e-01,  ..., -1.2473e+00,\n",
       "             1.8461e+00, -2.5409e+00]],\n",
       "\n",
       "          [[-3.4506e-02, -1.4616e-01,  2.2781e+00,  ..., -1.6129e+00,\n",
       "            -2.3715e+00, -3.9735e-01],\n",
       "           [-2.4067e+00,  1.6958e+00, -1.2288e+00,  ...,  2.7751e+00,\n",
       "            -9.0689e-01,  1.6085e+00],\n",
       "           [-6.9706e-01,  2.4417e+00, -1.5572e+00,  ..., -2.7891e+00,\n",
       "            -2.0491e+00, -7.4694e-01],\n",
       "           ...,\n",
       "           [ 2.5360e+00,  1.1222e+00,  2.7631e+00,  ..., -1.5038e+00,\n",
       "             4.9418e-01, -3.7676e+00],\n",
       "           [-5.0850e-01, -8.8708e-01,  1.1738e+00,  ...,  2.3119e+00,\n",
       "            -3.4049e+00, -5.7601e-01],\n",
       "           [-3.1816e+00,  5.7223e-01,  2.8473e-01,  ...,  3.7492e+00,\n",
       "             3.0811e-01, -7.7055e-01]]],\n",
       "\n",
       "\n",
       "         [[[-3.6782e-01,  2.5975e+00,  1.0296e+00,  ..., -1.7787e+00,\n",
       "             1.0529e+00,  5.1517e-01],\n",
       "           [-1.5714e+00, -2.7360e+00,  2.6385e+00,  ..., -1.3977e+00,\n",
       "             4.4499e+00, -4.4107e-01],\n",
       "           [-1.1167e+00,  2.7506e-01, -1.1206e+00,  ..., -3.6839e+00,\n",
       "            -2.9543e+00, -3.9240e-01],\n",
       "           ...,\n",
       "           [-3.6660e+00, -1.6986e-01, -5.7540e-03,  ...,  1.6411e+00,\n",
       "            -7.3661e-01, -3.4528e-01],\n",
       "           [-1.2554e+00,  1.2154e+00,  6.3070e-01,  ..., -9.5520e-01,\n",
       "            -3.0135e-01,  7.7632e-01],\n",
       "           [-1.6059e+00,  6.1320e-01,  2.0600e+00,  ...,  8.2817e-01,\n",
       "            -3.2393e+00, -7.6084e-02]],\n",
       "\n",
       "          [[ 5.7171e-01, -7.8241e-01,  8.1668e-01,  ...,  3.4819e+00,\n",
       "            -5.8004e-01,  1.5159e+00],\n",
       "           [-2.8699e+00,  3.5143e-01, -1.2700e+00,  ...,  1.1187e+00,\n",
       "            -1.8252e+00,  1.4880e+00],\n",
       "           [ 2.0474e-01, -2.7267e-01,  5.4656e+00,  ...,  1.4799e+00,\n",
       "            -3.6635e-01,  3.3040e+00],\n",
       "           ...,\n",
       "           [-1.1607e+00, -4.0786e+00,  3.5522e+00,  ...,  4.8324e-01,\n",
       "             2.1787e+00,  3.5941e+00],\n",
       "           [-9.4808e-02,  1.1466e+00,  2.0971e+00,  ...,  2.8916e-01,\n",
       "             1.8967e-01, -1.1287e+00],\n",
       "           [-3.0085e-01,  1.5082e+00, -1.2777e+00,  ...,  6.8838e-01,\n",
       "            -8.0357e-01,  7.7228e-01]]],\n",
       "\n",
       "\n",
       "         [[[-2.2639e+00, -2.1591e+00,  1.1716e+00,  ...,  3.2269e+00,\n",
       "            -1.6470e+00,  1.5181e+00],\n",
       "           [-1.3565e-01,  7.5023e-01, -3.7194e+00,  ...,  2.4783e+00,\n",
       "            -2.2254e+00, -2.7216e-01],\n",
       "           [-2.8802e+00, -6.5250e-02,  1.1838e-01,  ..., -1.1039e+00,\n",
       "            -4.1392e-01,  6.9909e-01],\n",
       "           ...,\n",
       "           [ 4.7919e-01, -3.8903e+00,  1.8100e+00,  ..., -8.8456e-01,\n",
       "             3.2847e+00,  3.5696e+00],\n",
       "           [-1.0902e+00,  2.2762e+00,  2.1424e+00,  ..., -1.6635e+00,\n",
       "            -2.0589e+00, -5.9741e-01],\n",
       "           [-9.5597e-01, -7.8361e-01, -1.2378e+00,  ..., -2.2356e+00,\n",
       "             4.8729e+00,  1.4446e+00]],\n",
       "\n",
       "          [[-1.6216e+00,  6.1007e-01,  2.2677e+00,  ..., -2.3919e-01,\n",
       "             3.1599e-01,  2.4852e+00],\n",
       "           [-1.0640e+00,  1.5625e-01,  7.5425e-01,  ...,  9.2029e-01,\n",
       "            -2.3111e+00, -1.1026e+00],\n",
       "           [ 3.6433e+00, -6.9524e-01, -1.3614e+00,  ..., -4.4003e-01,\n",
       "             2.9856e-02, -6.9472e-01],\n",
       "           ...,\n",
       "           [ 2.2445e+00, -4.7941e-01, -2.7087e+00,  ..., -1.9768e+00,\n",
       "            -2.3065e+00, -1.8469e+00],\n",
       "           [-1.2747e+00, -2.2060e+00,  2.0237e+00,  ...,  1.0790e+00,\n",
       "            -8.9495e-01, -2.1683e+00],\n",
       "           [ 2.0565e+00,  2.9831e+00, -2.5228e+00,  ..., -1.6393e+00,\n",
       "            -2.8519e+00,  2.1206e+00]]]],\n",
       "\n",
       "\n",
       "\n",
       "        [[[[-7.3430e-01,  1.1659e+00, -2.2266e+00,  ..., -6.8753e-01,\n",
       "             5.4930e-01,  7.4772e-01],\n",
       "           [ 4.0290e+00, -1.5367e+00,  4.0333e+00,  ...,  6.8306e-01,\n",
       "            -1.2557e+00, -1.4752e+00],\n",
       "           [-3.1707e+00, -1.4014e+00,  2.5276e+00,  ..., -1.4448e+00,\n",
       "             1.5687e+00, -2.0362e-01],\n",
       "           ...,\n",
       "           [ 1.3846e+00,  1.1240e+00,  1.4019e-01,  ..., -4.2152e-01,\n",
       "             1.0007e+00, -1.6256e-01],\n",
       "           [-6.4852e-01,  2.6360e+00, -1.4940e+00,  ..., -1.4971e+00,\n",
       "             3.0856e-01, -3.7054e-01],\n",
       "           [ 2.3665e-01, -1.0659e+00, -1.7201e+00,  ...,  4.5601e-01,\n",
       "            -3.2657e-01,  3.4076e+00]],\n",
       "\n",
       "          [[ 2.2396e+00, -1.3305e+00, -2.1924e+00,  ..., -1.4976e+00,\n",
       "            -1.5266e+00, -2.3269e+00],\n",
       "           [-2.3430e+00,  1.2327e-01,  9.6323e-01,  ...,  5.9697e+00,\n",
       "            -2.7874e+00, -7.3477e-01],\n",
       "           [-2.4313e+00, -2.1185e-01,  2.4048e+00,  ...,  4.3581e-01,\n",
       "            -3.1558e+00,  1.6984e-02],\n",
       "           ...,\n",
       "           [-1.9158e+00,  8.4407e-01, -1.0417e+00,  ...,  6.6243e-01,\n",
       "            -2.6539e-01,  1.9999e+00],\n",
       "           [ 2.1420e+00,  2.2781e-01,  4.7343e-01,  ..., -5.3957e-01,\n",
       "            -2.9775e+00,  2.4132e+00],\n",
       "           [ 8.9321e-02, -1.5473e+00,  1.2355e+00,  ...,  1.5350e+00,\n",
       "            -1.6158e+00,  2.5916e+00]]],\n",
       "\n",
       "\n",
       "         [[[-1.1326e+00, -1.6856e+00,  1.5874e+00,  ..., -1.1531e+00,\n",
       "            -5.5322e+00,  3.1934e+00],\n",
       "           [-8.3271e-01,  3.7737e+00,  1.0864e+00,  ...,  4.6882e-01,\n",
       "             4.3559e+00,  1.4632e+00],\n",
       "           [ 2.5272e+00,  1.5255e+00, -2.1330e+00,  ...,  5.7477e-01,\n",
       "            -2.6640e+00,  5.6607e-01],\n",
       "           ...,\n",
       "           [-1.6046e+00, -1.8953e+00,  2.5688e+00,  ...,  1.7930e+00,\n",
       "             9.5121e-01, -3.9571e-01],\n",
       "           [ 2.0708e+00, -2.8020e-03,  1.9206e+00,  ...,  2.9201e+00,\n",
       "            -4.6579e-01, -2.0139e+00],\n",
       "           [ 8.3164e-01,  2.9666e+00, -1.4480e+00,  ...,  5.1406e-01,\n",
       "            -2.4365e+00,  6.3820e-01]],\n",
       "\n",
       "          [[ 1.9747e-01, -2.7435e+00, -1.7865e-01,  ..., -1.7987e+00,\n",
       "            -1.0145e+00,  2.6208e+00],\n",
       "           [-1.3415e+00, -1.3684e+00, -1.6396e+00,  ..., -2.1352e+00,\n",
       "            -2.2459e+00,  1.4732e+00],\n",
       "           [ 3.9524e+00,  3.5972e+00, -6.5470e-01,  ..., -1.1852e+00,\n",
       "             4.2414e-01,  9.5273e-01],\n",
       "           ...,\n",
       "           [-2.8581e+00, -1.1633e-01,  7.8193e-01,  ...,  3.2809e+00,\n",
       "             6.7126e-01, -4.9826e-01],\n",
       "           [ 3.3211e+00, -4.5942e+00, -4.4586e-01,  ...,  5.2688e-01,\n",
       "            -2.8943e+00, -1.5613e+00],\n",
       "           [-1.1644e-01, -1.7420e+00, -3.5782e+00,  ...,  4.5445e-01,\n",
       "             5.6593e-01,  1.4183e-01]]],\n",
       "\n",
       "\n",
       "         [[[ 1.7757e-01, -1.8447e-01, -9.4673e-01,  ..., -6.6040e-01,\n",
       "             1.6535e+00, -3.0833e+00],\n",
       "           [ 1.7821e-01,  3.0716e+00,  1.0509e+00,  ..., -1.8875e+00,\n",
       "            -1.7706e+00, -4.1567e+00],\n",
       "           [ 2.1562e-01, -2.7008e+00, -1.6764e+00,  ..., -7.3493e-01,\n",
       "             4.3957e+00, -4.4957e-01],\n",
       "           ...,\n",
       "           [ 1.4146e+00,  1.8120e+00,  2.0902e+00,  ...,  7.0362e+00,\n",
       "            -2.4490e+00,  1.3785e+00],\n",
       "           [ 4.3965e-01, -2.2505e+00, -6.1218e-01,  ...,  4.7541e-01,\n",
       "            -1.2928e-01, -2.6760e+00],\n",
       "           [ 1.4810e+00, -1.9992e-01, -2.4678e-01,  ...,  1.8184e+00,\n",
       "             8.3712e-01,  4.3272e-01]],\n",
       "\n",
       "          [[-8.6785e-01, -6.9776e-01, -1.8791e+00,  ...,  1.6538e+00,\n",
       "             1.9945e-01,  1.1815e+00],\n",
       "           [ 3.0629e-01, -2.2579e+00, -8.1423e-01,  ...,  2.8291e-01,\n",
       "            -1.9239e+00, -2.5456e+00],\n",
       "           [-1.6259e+00,  7.2762e-01,  2.7963e+00,  ...,  2.0647e-01,\n",
       "            -1.0923e+00,  4.7747e-01],\n",
       "           ...,\n",
       "           [ 3.2658e-01, -2.3919e+00,  2.9563e+00,  ...,  3.8489e+00,\n",
       "             2.5914e+00,  2.6454e+00],\n",
       "           [ 2.1158e+00,  1.3422e+00,  9.0910e-02,  ..., -9.4762e-01,\n",
       "            -4.1606e-01, -2.2434e-01],\n",
       "           [-3.6238e+00, -2.3351e+00, -1.1788e+00,  ..., -1.7171e-01,\n",
       "             1.3300e+00, -1.2186e+00]]],\n",
       "\n",
       "\n",
       "         ...,\n",
       "\n",
       "\n",
       "         [[[-6.1312e-01,  2.0645e+00, -1.8072e+00,  ...,  5.2844e-01,\n",
       "             1.7116e-01, -6.2657e-01],\n",
       "           [-2.8140e+00, -1.9743e-01,  2.3205e-01,  ...,  4.2515e-01,\n",
       "             3.5880e-01,  6.8383e-01],\n",
       "           [-7.8255e-01,  2.6613e+00,  3.5460e+00,  ..., -8.7061e-01,\n",
       "             3.5013e+00, -2.3665e+00],\n",
       "           ...,\n",
       "           [-5.1251e-01, -2.2039e+00,  4.2743e-01,  ...,  4.8704e-01,\n",
       "             2.8800e+00, -3.8057e-01],\n",
       "           [ 8.5765e-02,  1.9563e+00,  5.3985e-01,  ...,  1.3578e+00,\n",
       "            -4.2623e+00, -1.0674e+00],\n",
       "           [ 3.5760e+00,  7.8287e-01,  1.7723e+00,  ..., -1.5713e+00,\n",
       "            -1.2182e+00,  1.0911e-01]],\n",
       "\n",
       "          [[-1.4976e+00, -3.5068e+00,  1.8498e+00,  ..., -2.5641e-01,\n",
       "             8.9579e-01,  2.5042e+00],\n",
       "           [-1.6486e+00,  1.1337e+00,  8.6039e-01,  ..., -1.7436e+00,\n",
       "            -1.6040e+00,  6.5906e-01],\n",
       "           [-1.5871e+00, -1.0271e+00,  8.4911e-01,  ...,  1.3725e+00,\n",
       "            -4.7792e-02, -1.2943e+00],\n",
       "           ...,\n",
       "           [ 3.6992e-01, -3.4308e+00,  2.3740e+00,  ..., -6.2802e-01,\n",
       "             2.4109e+00, -8.8257e-01],\n",
       "           [ 2.4701e-01,  1.5423e-01, -3.4397e+00,  ..., -1.1843e+00,\n",
       "            -1.7728e+00,  1.3975e+00],\n",
       "           [-1.0191e+00, -7.0190e-01,  5.2079e-01,  ...,  1.0553e+00,\n",
       "            -1.0829e+00,  2.7371e-02]]],\n",
       "\n",
       "\n",
       "         [[[ 7.0190e-01, -6.4189e-01,  3.4277e-01,  ...,  4.2722e-01,\n",
       "            -3.8218e+00,  1.1031e-01],\n",
       "           [-3.2056e+00,  1.1444e+00, -3.1067e+00,  ...,  1.8752e-01,\n",
       "            -2.0967e+00,  1.7625e+00],\n",
       "           [-2.4087e+00,  3.1576e-01, -7.5504e-01,  ..., -1.1345e+00,\n",
       "             1.9070e-01, -8.1578e-01],\n",
       "           ...,\n",
       "           [-6.7822e-01,  6.8555e-01,  3.6361e-01,  ..., -2.8442e+00,\n",
       "             1.2405e+00, -9.4701e-01],\n",
       "           [-1.4762e+00,  1.2167e-01, -8.2768e-01,  ...,  7.4880e+00,\n",
       "            -1.0254e-01, -1.2278e+00],\n",
       "           [ 6.9365e-01,  4.0379e-01,  1.2151e+00,  ..., -1.4759e+00,\n",
       "             2.0589e+00, -1.3411e+00]],\n",
       "\n",
       "          [[ 2.0843e+00,  2.6141e+00,  2.2228e+00,  ...,  4.3384e+00,\n",
       "             3.0169e+00,  4.0704e-01],\n",
       "           [ 1.7705e+00, -2.8312e+00, -2.2379e+00,  ..., -2.6272e-01,\n",
       "            -4.7295e-01, -7.6429e-01],\n",
       "           [-2.4746e+00,  4.1166e+00,  1.3703e+00,  ..., -3.5001e+00,\n",
       "            -3.0104e+00,  9.2062e-01],\n",
       "           ...,\n",
       "           [ 3.6613e+00,  4.9779e-01,  8.6299e-01,  ..., -2.4329e-01,\n",
       "            -1.5903e-01, -7.9198e-01],\n",
       "           [-8.7893e-01,  1.6080e+00, -1.8627e+00,  ..., -2.1874e+00,\n",
       "            -4.0326e+00, -2.7259e-01],\n",
       "           [-1.8274e-01, -2.5292e-01,  1.3070e+00,  ...,  1.9528e+00,\n",
       "            -1.3268e+00, -6.6575e-01]]],\n",
       "\n",
       "\n",
       "         [[[ 1.7081e+00,  5.2804e-01,  2.2808e+00,  ..., -8.7548e-01,\n",
       "            -1.8474e+00, -3.6653e+00],\n",
       "           [-1.2590e+00, -9.0726e-01, -3.4811e-02,  ..., -2.2905e-02,\n",
       "             1.3151e+00, -6.6766e-01],\n",
       "           [ 2.6621e+00,  2.2875e+00, -4.3160e-01,  ..., -2.2424e+00,\n",
       "             2.6784e+00,  3.4703e-01],\n",
       "           ...,\n",
       "           [ 1.4518e+00, -1.8206e+00,  1.0043e+00,  ...,  1.2896e+00,\n",
       "             4.2115e+00, -1.8791e+00],\n",
       "           [-2.4711e+00, -1.6589e+00, -1.8834e+00,  ...,  2.5077e+00,\n",
       "             1.7954e+00,  2.8341e+00],\n",
       "           [ 5.5170e-01,  8.1383e-01, -1.3703e+00,  ..., -6.3962e-01,\n",
       "             2.0037e+00, -9.9111e-01]],\n",
       "\n",
       "          [[-1.2676e+00,  2.8727e+00, -2.5456e+00,  ...,  1.3444e-01,\n",
       "            -1.5313e+00, -8.3459e-01],\n",
       "           [-2.1112e+00,  3.3091e+00, -3.4352e+00,  ...,  2.5822e+00,\n",
       "            -3.0647e+00,  8.0130e-01],\n",
       "           [ 6.4287e-01,  3.8654e+00,  4.3539e+00,  ...,  7.4366e-01,\n",
       "            -2.2900e+00, -2.1073e+00],\n",
       "           ...,\n",
       "           [-3.0898e+00, -1.5370e+00,  3.1365e-01,  ..., -2.6582e+00,\n",
       "             4.9476e+00, -5.0081e-01],\n",
       "           [ 4.1784e+00, -5.0075e+00, -3.3906e+00,  ..., -1.5194e+00,\n",
       "             2.4291e+00,  4.7098e+00],\n",
       "           [ 1.2250e+00, -1.0137e+00,  2.2001e+00,  ..., -6.5142e-01,\n",
       "            -6.2229e-01, -1.2266e+00]]]]], grad_fn=<NanToNumBackward0>)"
      ]
     },
     "execution_count": 99,
     "metadata": {},
     "output_type": "execute_result"
    }
   ],
   "source": [
    "b = torch.nan_to_num(b)\n",
    "b"
   ]
  },
  {
   "cell_type": "code",
   "execution_count": 100,
   "id": "cb41fdda",
   "metadata": {},
   "outputs": [
    {
     "ename": "RuntimeError",
     "evalue": "grad can be implicitly created only for scalar outputs",
     "output_type": "error",
     "traceback": [
      "\u001b[0;31m---------------------------------------------------------------------------\u001b[0m",
      "\u001b[0;31mRuntimeError\u001b[0m                              Traceback (most recent call last)",
      "Cell \u001b[0;32mIn[100], line 1\u001b[0m\n\u001b[0;32m----> 1\u001b[0m \u001b[43mb\u001b[49m\u001b[38;5;241;43m.\u001b[39;49m\u001b[43mbackward\u001b[49m\u001b[43m(\u001b[49m\u001b[43m)\u001b[49m\n",
      "File \u001b[0;32m~/miniconda3/envs/train/lib/python3.9/site-packages/torch/_tensor.py:488\u001b[0m, in \u001b[0;36mTensor.backward\u001b[0;34m(self, gradient, retain_graph, create_graph, inputs)\u001b[0m\n\u001b[1;32m    478\u001b[0m \u001b[38;5;28;01mif\u001b[39;00m has_torch_function_unary(\u001b[38;5;28mself\u001b[39m):\n\u001b[1;32m    479\u001b[0m     \u001b[38;5;28;01mreturn\u001b[39;00m handle_torch_function(\n\u001b[1;32m    480\u001b[0m         Tensor\u001b[38;5;241m.\u001b[39mbackward,\n\u001b[1;32m    481\u001b[0m         (\u001b[38;5;28mself\u001b[39m,),\n\u001b[0;32m   (...)\u001b[0m\n\u001b[1;32m    486\u001b[0m         inputs\u001b[38;5;241m=\u001b[39minputs,\n\u001b[1;32m    487\u001b[0m     )\n\u001b[0;32m--> 488\u001b[0m \u001b[43mtorch\u001b[49m\u001b[38;5;241;43m.\u001b[39;49m\u001b[43mautograd\u001b[49m\u001b[38;5;241;43m.\u001b[39;49m\u001b[43mbackward\u001b[49m\u001b[43m(\u001b[49m\n\u001b[1;32m    489\u001b[0m \u001b[43m    \u001b[49m\u001b[38;5;28;43mself\u001b[39;49m\u001b[43m,\u001b[49m\u001b[43m \u001b[49m\u001b[43mgradient\u001b[49m\u001b[43m,\u001b[49m\u001b[43m \u001b[49m\u001b[43mretain_graph\u001b[49m\u001b[43m,\u001b[49m\u001b[43m \u001b[49m\u001b[43mcreate_graph\u001b[49m\u001b[43m,\u001b[49m\u001b[43m \u001b[49m\u001b[43minputs\u001b[49m\u001b[38;5;241;43m=\u001b[39;49m\u001b[43minputs\u001b[49m\n\u001b[1;32m    490\u001b[0m \u001b[43m\u001b[49m\u001b[43m)\u001b[49m\n",
      "File \u001b[0;32m~/miniconda3/envs/train/lib/python3.9/site-packages/torch/autograd/__init__.py:190\u001b[0m, in \u001b[0;36mbackward\u001b[0;34m(tensors, grad_tensors, retain_graph, create_graph, grad_variables, inputs)\u001b[0m\n\u001b[1;32m    186\u001b[0m inputs \u001b[38;5;241m=\u001b[39m (inputs,) \u001b[38;5;28;01mif\u001b[39;00m \u001b[38;5;28misinstance\u001b[39m(inputs, torch\u001b[38;5;241m.\u001b[39mTensor) \u001b[38;5;28;01melse\u001b[39;00m \\\n\u001b[1;32m    187\u001b[0m     \u001b[38;5;28mtuple\u001b[39m(inputs) \u001b[38;5;28;01mif\u001b[39;00m inputs \u001b[38;5;129;01mis\u001b[39;00m \u001b[38;5;129;01mnot\u001b[39;00m \u001b[38;5;28;01mNone\u001b[39;00m \u001b[38;5;28;01melse\u001b[39;00m \u001b[38;5;28mtuple\u001b[39m()\n\u001b[1;32m    189\u001b[0m grad_tensors_ \u001b[38;5;241m=\u001b[39m _tensor_or_tensors_to_tuple(grad_tensors, \u001b[38;5;28mlen\u001b[39m(tensors))\n\u001b[0;32m--> 190\u001b[0m grad_tensors_ \u001b[38;5;241m=\u001b[39m \u001b[43m_make_grads\u001b[49m\u001b[43m(\u001b[49m\u001b[43mtensors\u001b[49m\u001b[43m,\u001b[49m\u001b[43m \u001b[49m\u001b[43mgrad_tensors_\u001b[49m\u001b[43m,\u001b[49m\u001b[43m \u001b[49m\u001b[43mis_grads_batched\u001b[49m\u001b[38;5;241;43m=\u001b[39;49m\u001b[38;5;28;43;01mFalse\u001b[39;49;00m\u001b[43m)\u001b[49m\n\u001b[1;32m    191\u001b[0m \u001b[38;5;28;01mif\u001b[39;00m retain_graph \u001b[38;5;129;01mis\u001b[39;00m \u001b[38;5;28;01mNone\u001b[39;00m:\n\u001b[1;32m    192\u001b[0m     retain_graph \u001b[38;5;241m=\u001b[39m create_graph\n",
      "File \u001b[0;32m~/miniconda3/envs/train/lib/python3.9/site-packages/torch/autograd/__init__.py:85\u001b[0m, in \u001b[0;36m_make_grads\u001b[0;34m(outputs, grads, is_grads_batched)\u001b[0m\n\u001b[1;32m     83\u001b[0m \u001b[38;5;28;01mif\u001b[39;00m out\u001b[38;5;241m.\u001b[39mrequires_grad:\n\u001b[1;32m     84\u001b[0m     \u001b[38;5;28;01mif\u001b[39;00m out\u001b[38;5;241m.\u001b[39mnumel() \u001b[38;5;241m!=\u001b[39m \u001b[38;5;241m1\u001b[39m:\n\u001b[0;32m---> 85\u001b[0m         \u001b[38;5;28;01mraise\u001b[39;00m \u001b[38;5;167;01mRuntimeError\u001b[39;00m(\u001b[38;5;124m\"\u001b[39m\u001b[38;5;124mgrad can be implicitly created only for scalar outputs\u001b[39m\u001b[38;5;124m\"\u001b[39m)\n\u001b[1;32m     86\u001b[0m     new_grads\u001b[38;5;241m.\u001b[39mappend(torch\u001b[38;5;241m.\u001b[39mones_like(out, memory_format\u001b[38;5;241m=\u001b[39mtorch\u001b[38;5;241m.\u001b[39mpreserve_format))\n\u001b[1;32m     87\u001b[0m \u001b[38;5;28;01melse\u001b[39;00m:\n",
      "\u001b[0;31mRuntimeError\u001b[0m: grad can be implicitly created only for scalar outputs"
     ]
    }
   ],
   "source": [
    "b.backward()"
   ]
  },
  {
   "cell_type": "code",
   "execution_count": 95,
   "id": "92a1ae81",
   "metadata": {},
   "outputs": [
    {
     "data": {
      "text/plain": [
       "torch.Size([2, 64, 2, 224, 224])"
      ]
     },
     "execution_count": 95,
     "metadata": {},
     "output_type": "execute_result"
    }
   ],
   "source": [
    "a = torch.randn(2, 64, 2, 224, 224)\n",
    "a.requires_grad = True\n",
    "a.shape"
   ]
  },
  {
   "cell_type": "code",
   "execution_count": 91,
   "id": "d3fa9601",
   "metadata": {},
   "outputs": [
    {
     "name": "stderr",
     "output_type": "stream",
     "text": [
      "/tmp/ipykernel_2235305/3538350211.py:1: UserWarning:\n",
      "\n",
      "Implicit dimension choice for softmax has been deprecated. Change the call to include dim=X as an argument.\n",
      "\n"
     ]
    },
    {
     "data": {
      "text/plain": [
       "tensor([[0.5836, 0.4164],\n",
       "        [0.2924, 0.7076]])"
      ]
     },
     "execution_count": 91,
     "metadata": {},
     "output_type": "execute_result"
    }
   ],
   "source": [
    "F.softmax(torch.randn(2, 2))"
   ]
  },
  {
   "cell_type": "code",
   "execution_count": 85,
   "id": "6462ce44",
   "metadata": {},
   "outputs": [
    {
     "data": {
      "text/plain": [
       "torch.Size([128, 2, 224, 224])"
      ]
     },
     "execution_count": 85,
     "metadata": {},
     "output_type": "execute_result"
    }
   ],
   "source": [
    "a.view(-1, *a.size()[2:]).shape"
   ]
  },
  {
   "cell_type": "code",
   "execution_count": 15,
   "id": "866bb351",
   "metadata": {},
   "outputs": [
    {
     "data": {
      "text/plain": [
       "Munch({'augmentation': True, 'background_index': 0, 'batch_size': 2, 'cls_loss_wts': Munch({'ce': 3}), 'crop': True, 'datapath': '/data_nas4/processed/qer/all_studies_10k.json', 'dataset_class': <class 'qtrain.dataset.infarct.InfarctDataset3D'>, 'dataset_module': <class 'qtrain.dataset.infarct.InfarctDataModule'>, 'dataset_type': '3D', 'extra_augs': False, 'fast_batch_size': 4, 'fast_dev_run': False, 'gpu': 2, 'img_size': 224, 'losses': Munch({'cls/bce': CrossEntropyLoss(), 'seg/dice': GDiceLossV2(), 'seg/focal': FocalLoss(), 'seg/mcc': MCCLoss()}), 'max_epoch': 300, 'mode': 'binary', 'model': <class 'qtrain.models.unet.unet2dseqattn.UnetSeqAttn'>, 'model_params': Munch({'attention_type': None, 'cls_dropout': 0.3, 'cls_nclasses': 2, 'cls_pooling': 'avg', 'decoder_channels': (128, 64, 32, 16), 'depth': 4, 'encoder_name': 'efficientnet-b6', 'in_channels': 3, 'kernel_size': 5, 'n_segmaps': 1, 'n_slices': 60, 'output_stride': 16, 'seg_activation': 'sigmoid', 'use_batchnorm': True}), 'model_params_star_pass': False, 'monitor': 'valid/loss', 'n_slices': 60, 'num_workers': 8, 'only_annotated': False, 'optimizer': <class 'torch.optim.adam.Adam'>, 'optimizer_params': Munch({'betas': (0.9, 0.999), 'eps': 1e-08, 'lr': 0.05, 'weight_decay': 0}), 'patience': 100, 'precision': '16-mixed', 'progress_bar_refresh_rate': 20, 'project_path': '/home/users/ujjwal.upadhyay/projects/qtrain/', 'sampler': None, 'save_checkpoints': 'logs', 'scheduler': <class 'torch.optim.lr_scheduler.MultiStepLR'>, 'scheduler_params': Munch({'gamma': 0.2, 'milestones': [50, 100, 150, 200]}), 'seed': 2023, 'seg_loss_wts': Munch({'focal': 5}), 'slc_loss_wts': Munch({'bce': 3}), 'status': 'train', 'strategy': 'ddp', 'task': ['segmentation'], 'val_batch_size': 2, 'val_n_slices': 60, 'windowing': 'old'})"
      ]
     },
     "execution_count": 15,
     "metadata": {},
     "output_type": "execute_result"
    }
   ],
   "source": [
    "args_yaml"
   ]
  },
  {
   "cell_type": "code",
   "execution_count": 26,
   "id": "6aaa0bce",
   "metadata": {},
   "outputs": [],
   "source": [
    "dm = args_yaml.dataset_module(args_yaml)"
   ]
  },
  {
   "cell_type": "code",
   "execution_count": 27,
   "id": "10e9dad5",
   "metadata": {},
   "outputs": [
    {
     "name": "stderr",
     "output_type": "stream",
     "text": [
      "train data: 100%|███████████████████████████████████████████████████████████████████████████████████████████████████| 1008/1008 [00:00<00:00, 45618.79it/s]"
     ]
    },
    {
     "name": "stdout",
     "output_type": "stream",
     "text": [
      "1008 scans present in train data belonging to 1 classes\n",
      "\n"
     ]
    },
    {
     "name": "stderr",
     "output_type": "stream",
     "text": [
      "\n"
     ]
    }
   ],
   "source": [
    "loader = dm.train_dataloader()"
   ]
  },
  {
   "cell_type": "code",
   "execution_count": 28,
   "id": "591dd581",
   "metadata": {},
   "outputs": [
    {
     "name": "stderr",
     "output_type": "stream",
     "text": [
      "train data: 100%|███████████████████████████████████████████████████████████████████████████████████████████████████| 1008/1008 [00:00<00:00, 61649.46it/s]"
     ]
    },
    {
     "name": "stdout",
     "output_type": "stream",
     "text": [
      "1008 scans present in train data belonging to 1 classes\n",
      "\n"
     ]
    },
    {
     "name": "stderr",
     "output_type": "stream",
     "text": [
      "\n"
     ]
    }
   ],
   "source": [
    "dataset = args_yaml.dataset_class(args_yaml)"
   ]
  },
  {
   "cell_type": "code",
   "execution_count": 29,
   "id": "7d726ad4",
   "metadata": {},
   "outputs": [
    {
     "data": {
      "text/plain": [
       "1008"
      ]
     },
     "execution_count": 29,
     "metadata": {},
     "output_type": "execute_result"
    }
   ],
   "source": [
    "len(dataset)"
   ]
  },
  {
   "cell_type": "code",
   "execution_count": null,
   "id": "1a0c8b62",
   "metadata": {},
   "outputs": [],
   "source": [
    "index = i\n",
    "target = pydicom.read_file(dataset.target[index]).pixel_array"
   ]
  },
  {
   "cell_type": "code",
   "execution_count": null,
   "id": "cddad740",
   "metadata": {},
   "outputs": [],
   "source": [
    "label_keys = list(dataset.labels[index].keys())\n",
    "annotation = target"
   ]
  },
  {
   "cell_type": "code",
   "execution_count": null,
   "id": "58792032",
   "metadata": {},
   "outputs": [],
   "source": [
    "annotation = np.where(np.isin(annotation, dataset.labels[index][label_keys[0]]), 1, 0)"
   ]
  },
  {
   "cell_type": "code",
   "execution_count": null,
   "id": "7cf472a6",
   "metadata": {},
   "outputs": [],
   "source": [
    "annotation.shape"
   ]
  },
  {
   "cell_type": "code",
   "execution_count": null,
   "id": "c1357eba",
   "metadata": {},
   "outputs": [],
   "source": [
    "plt.imshow(annotation)"
   ]
  },
  {
   "cell_type": "code",
   "execution_count": null,
   "id": "0c639280",
   "metadata": {},
   "outputs": [],
   "source": [
    "plt.imshow(pydicom.read_file(dataset.target[0]).pixel_array)"
   ]
  },
  {
   "cell_type": "code",
   "execution_count": 50,
   "id": "e7fc58f0",
   "metadata": {},
   "outputs": [],
   "source": [
    "a, b = dataset[i]"
   ]
  },
  {
   "cell_type": "code",
   "execution_count": 52,
   "id": "9dfbd51c",
   "metadata": {},
   "outputs": [
    {
     "data": {
      "text/plain": [
       "<matplotlib.image.AxesImage at 0x7f84aa09b1c0>"
      ]
     },
     "execution_count": 52,
     "metadata": {},
     "output_type": "execute_result"
    },
    {
     "data": {
      "image/png": "[encoded data removed]",
      "text/plain": [
       "<Figure size 640x480 with 1 Axes>"
      ]
     },
     "metadata": {},
     "output_type": "display_data"
    }
   ],
   "source": [
    "plt.imshow(a[0].numpy())"
   ]
  },
  {
   "cell_type": "code",
   "execution_count": 44,
   "id": "7aa19a9d",
   "metadata": {},
   "outputs": [
    {
     "data": {
      "application/vnd.jupyter.widget-view+json": {
       "model_id": "494f6b9bb11b4754a1fc0a30797469c1",
       "version_major": 2,
       "version_minor": 0
      },
      "text/plain": [
       "  0%|          | 0/30572 [00:00<?, ?it/s]"
      ]
     },
     "metadata": {},
     "output_type": "display_data"
    }
   ],
   "source": [
    "for i in tqdm(range(len(dataset))):\n",
    "    a, b = dataset[i]\n",
    "    if b.sum() > 0:\n",
    "        break\n",
    "#     print(a.shape, b.shape)"
   ]
  },
  {
   "cell_type": "code",
   "execution_count": 53,
   "id": "fc117545",
   "metadata": {},
   "outputs": [],
   "source": [
    "from qtrain.models.train_models import qSegmentation"
   ]
  },
  {
   "cell_type": "code",
   "execution_count": 55,
   "id": "017320c1",
   "metadata": {},
   "outputs": [],
   "source": [
    "a, b = next(iter(loader))"
   ]
  },
  {
   "cell_type": "code",
   "execution_count": 54,
   "id": "efa56ff2",
   "metadata": {},
   "outputs": [],
   "source": [
    "model = qSegmentation(args_yaml)"
   ]
  },
  {
   "cell_type": "code",
   "execution_count": 56,
   "id": "957be4f9",
   "metadata": {},
   "outputs": [],
   "source": [
    "b_ = model(a)"
   ]
  },
  {
   "cell_type": "code",
   "execution_count": 62,
   "id": "e1dff68e",
   "metadata": {},
   "outputs": [
    {
     "data": {
      "text/plain": [
       "Munch({'dice_ce_loss': DiceCELoss(\n",
       "  (dice): DiceLoss()\n",
       "  (cross_entropy): CrossEntropyLoss()\n",
       "), 'focal_loss': FocalLoss(), 'mse_loss': MSELoss()})"
      ]
     },
     "execution_count": 62,
     "metadata": {},
     "output_type": "execute_result"
    }
   ],
   "source": [
    "args_yaml.losses"
   ]
  },
  {
   "cell_type": "code",
   "execution_count": 66,
   "id": "003d3870",
   "metadata": {},
   "outputs": [
    {
     "name": "stdout",
     "output_type": "stream",
     "text": [
      "dice_ce_loss tensor(0.9992, dtype=torch.float64, grad_fn=<AddBackward0>)\n",
      "focal_loss tensor(0.4152, dtype=torch.float64, grad_fn=<MeanBackward0>)\n",
      "mse_loss tensor(0.3394, dtype=torch.float64, grad_fn=<MseLossBackward0>)\n"
     ]
    }
   ],
   "source": [
    "for key in args_yaml.losses:\n",
    "    print(key, args_yaml.losses[key](b_[\"masks\"], b))"
   ]
  },
  {
   "cell_type": "code",
   "execution_count": 22,
   "id": "8f97bbdc",
   "metadata": {},
   "outputs": [],
   "source": [
    "from qtrain.sampler.weighted_sampling import WeightedRandomSampler"
   ]
  },
  {
   "cell_type": "code",
   "execution_count": 20,
   "id": "20023a7c",
   "metadata": {},
   "outputs": [
    {
     "name": "stderr",
     "output_type": "stream",
     "text": [
      "train data: 100%|███████████████████████████████████████████████████████████████████| 1008/1008 [00:00<00:00, 7239.97it/s]"
     ]
    },
    {
     "name": "stdout",
     "output_type": "stream",
     "text": [
      "30572 slices present in train data.\n",
      "\n"
     ]
    },
    {
     "name": "stderr",
     "output_type": "stream",
     "text": [
      "\n"
     ]
    }
   ],
   "source": [
    "dataset = args_yaml.dataset_class(args_yaml)"
   ]
  },
  {
   "cell_type": "code",
   "execution_count": 24,
   "id": "7dee13f5",
   "metadata": {},
   "outputs": [],
   "source": [
    "from qtrain.sampler.weighted_sampling import WeightedRandomSampler\n",
    "\n",
    "s = WeightedRandomSampler(dataset)"
   ]
  },
  {
   "cell_type": "code",
   "execution_count": 30,
   "id": "2bcb4c1b",
   "metadata": {},
   "outputs": [],
   "source": [
    "loader = DataLoader(\n",
    "    dataset,\n",
    "    batch_size=8,\n",
    "    num_workers=8,\n",
    "    drop_last=True,\n",
    "    pin_memory=True,\n",
    "    shuffle=False,\n",
    ")"
   ]
  },
  {
   "cell_type": "code",
   "execution_count": 31,
   "id": "01a588fa",
   "metadata": {},
   "outputs": [],
   "source": [
    "a, b = next(iter(loader))"
   ]
  },
  {
   "cell_type": "code",
   "execution_count": 32,
   "id": "68ec5d9a",
   "metadata": {},
   "outputs": [
    {
     "data": {
      "text/plain": [
       "(torch.Size([8, 3, 224, 224, 8]), torch.Size([8, 8, 224, 224]))"
      ]
     },
     "execution_count": 32,
     "metadata": {},
     "output_type": "execute_result"
    }
   ],
   "source": [
    "a.shape, b.shape"
   ]
  },
  {
   "cell_type": "code",
   "execution_count": 61,
   "id": "f5e60f05",
   "metadata": {},
   "outputs": [
    {
     "data": {
      "text/plain": [
       "Munch({'resnet': 'seresnet50', 'attn_mode': 'softminmax'})"
      ]
     },
     "execution_count": 61,
     "metadata": {},
     "output_type": "execute_result"
    }
   ],
   "source": [
    "args.model_params"
   ]
  },
  {
   "cell_type": "code",
   "execution_count": 129,
   "id": "f0235477",
   "metadata": {},
   "outputs": [
    {
     "name": "stdout",
     "output_type": "stream",
     "text": [
      "[2023-06-28 09:47:41 +0530] [INFO] Loading pretrained weights from url (https://github.com/rwightman/pytorch-image-models/releases/download/v0.1-weights/seresnet50_ra_224-8efdb4bb.pth)\n",
      "Total params: 28088024\n",
      "(8, 224, 224)\n"
     ]
    }
   ],
   "source": [
    "model = args.model(**args.model_params).double()"
   ]
  },
  {
   "cell_type": "code",
   "execution_count": 130,
   "id": "32798650",
   "metadata": {},
   "outputs": [],
   "source": [
    "out = model(a.reshape(8, 3, 8, 224, 224).double())"
   ]
  },
  {
   "cell_type": "code",
   "execution_count": 131,
   "id": "9525f500",
   "metadata": {},
   "outputs": [
    {
     "data": {
      "text/plain": [
       "torch.Size([8, 8, 224, 224])"
      ]
     },
     "execution_count": 131,
     "metadata": {},
     "output_type": "execute_result"
    }
   ],
   "source": [
    "out[-1].shape"
   ]
  },
  {
   "cell_type": "code",
   "execution_count": 107,
   "id": "66aa210f",
   "metadata": {},
   "outputs": [],
   "source": [
    "import torch.nn.functional as F"
   ]
  },
  {
   "cell_type": "code",
   "execution_count": 121,
   "id": "2a2b5851",
   "metadata": {},
   "outputs": [
    {
     "name": "stdout",
     "output_type": "stream",
     "text": [
      "torch.Size([8, 8, 224, 224])\n"
     ]
    }
   ],
   "source": [
    "x = F.softmax(out[-1][1], dim=1)\n",
    "x = F.interpolate(x, size=(8, 224, 224), mode=\"trilinear\", align_corners=False)\n",
    "print(x[:, 1].shape)"
   ]
  },
  {
   "cell_type": "code",
   "execution_count": 33,
   "id": "041dae10",
   "metadata": {},
   "outputs": [
    {
     "name": "stdout",
     "output_type": "stream",
     "text": [
      "tensor(0)\n",
      "tensor(0)\n",
      "tensor(0)\n",
      "tensor(0)\n",
      "tensor(9)\n",
      "tensor(308)\n",
      "tensor(0)\n",
      "tensor(0)\n"
     ]
    }
   ],
   "source": [
    "for i in range(b.shape[0]):\n",
    "    print(b[i][0].sum())"
   ]
  },
  {
   "cell_type": "code",
   "execution_count": 45,
   "id": "5b25af4a",
   "metadata": {},
   "outputs": [
    {
     "data": {
      "text/plain": [
       "<matplotlib.image.AxesImage at 0x7f62b3ef0130>"
      ]
     },
     "execution_count": 45,
     "metadata": {},
     "output_type": "execute_result"
    },
    {
     "data": {
      "image/png": "[encoded data removed]",
      "text/plain": [
       "<Figure size 640x480 with 1 Axes>"
      ]
     },
     "metadata": {},
     "output_type": "display_data"
    }
   ],
   "source": [
    "plt.imshow(a[5, 0].numpy())"
   ]
  },
  {
   "cell_type": "code",
   "execution_count": 28,
   "id": "8ab5c0ee",
   "metadata": {},
   "outputs": [
    {
     "data": {
      "text/plain": [
       "(torch.Size([3, 224, 224]), torch.Size([1, 224, 224]))"
      ]
     },
     "execution_count": 28,
     "metadata": {},
     "output_type": "execute_result"
    }
   ],
   "source": [
    "a, b = dataset[0]\n",
    "a.shape, b.shap"
   ]
  },
  {
   "cell_type": "code",
   "execution_count": 37,
   "id": "60eccc2d",
   "metadata": {},
   "outputs": [
    {
     "data": {
      "text/plain": [
       "<matplotlib.image.AxesImage at 0x7fb21efbb850>"
      ]
     },
     "execution_count": 37,
     "metadata": {},
     "output_type": "execute_result"
    },
    {
     "data": {
      "image/png": "[encoded data removed]",
      "text/plain": [
       "<Figure size 640x480 with 1 Axes>"
      ]
     },
     "metadata": {},
     "output_type": "display_data"
    }
   ],
   "source": [
    "plt.imshow(1 - a[1], cmap=\"gray\")"
   ]
  },
  {
   "cell_type": "code",
   "execution_count": 20,
   "id": "059adfb4",
   "metadata": {},
   "outputs": [],
   "source": [
    "loader = DataLoader(\n",
    "    dataset, batch_size=4, num_workers=5, drop_last=True, pin_memory=True, shuffle=True\n",
    ")"
   ]
  },
  {
   "cell_type": "code",
   "execution_count": 21,
   "id": "20b20a25",
   "metadata": {},
   "outputs": [
    {
     "data": {
      "text/plain": [
       "Munch({'attention_type': 'scse', 'cls_activation': None, 'cls_dropout': '', 'cls_pooling': 'avg', 'decoder_channels': (256, 128, 64, 32, 16), 'depth': 5, 'encoder_name': 'efficientnet-b6', 'in_channels': 3, 'kernel_size': 3, 'n_maps': 1, 'num_classes': 2, 'output_stride': 32, 'seg_activation': None, 'task': ['segmentation'], 'use_batchnorm': True})"
      ]
     },
     "execution_count": 21,
     "metadata": {},
     "output_type": "execute_result"
    }
   ],
   "source": [
    "args_yaml.model_params"
   ]
  },
  {
   "cell_type": "code",
   "execution_count": 22,
   "id": "e6ea688e",
   "metadata": {},
   "outputs": [
    {
     "data": {
      "text/plain": [
       "Munch({'attention_type': 'scse', 'cls_activation': None, 'cls_dropout': '', 'cls_pooling': 'avg', 'decoder_channels': (256, 128, 64, 32, 16), 'depth': 5, 'encoder_name': 'efficientnet-b6', 'in_channels': 3, 'kernel_size': 3, 'n_maps': 1, 'num_classes': 2, 'output_stride': 32, 'seg_activation': None, 'task': ['segmentation'], 'use_batchnorm': True})"
      ]
     },
     "execution_count": 22,
     "metadata": {},
     "output_type": "execute_result"
    }
   ],
   "source": [
    "args_yaml.model_params"
   ]
  },
  {
   "cell_type": "code",
   "execution_count": 23,
   "id": "eafb823a",
   "metadata": {},
   "outputs": [],
   "source": [
    "device = torch.device(\"cuda:0\")\n",
    "net = args.model(args_yaml).double().to(device)"
   ]
  },
  {
   "cell_type": "code",
   "execution_count": 132,
   "id": "0479ee84",
   "metadata": {},
   "outputs": [
    {
     "ename": "ValueError",
     "evalue": "Cannot take a larger sample than population when 'replace=False'",
     "output_type": "error",
     "traceback": [
      "\u001b[0;31m---------------------------------------------------------------------------\u001b[0m",
      "\u001b[0;31mValueError\u001b[0m                                Traceback (most recent call last)",
      "Cell \u001b[0;32mIn[132], line 1\u001b[0m\n\u001b[0;32m----> 1\u001b[0m a, b \u001b[38;5;241m=\u001b[39m \u001b[38;5;28mnext\u001b[39m(\u001b[38;5;28;43miter\u001b[39;49m\u001b[43m(\u001b[49m\u001b[43mloader\u001b[49m\u001b[43m)\u001b[49m)\n\u001b[1;32m      2\u001b[0m a\u001b[38;5;241m.\u001b[39mshape, b\u001b[38;5;241m.\u001b[39mshape\n",
      "File \u001b[0;32m~/miniconda3/envs/train/lib/python3.9/site-packages/torch/utils/data/dataloader.py:435\u001b[0m, in \u001b[0;36mDataLoader.__iter__\u001b[0;34m(self)\u001b[0m\n\u001b[1;32m    433\u001b[0m     \u001b[38;5;28;01mreturn\u001b[39;00m \u001b[38;5;28mself\u001b[39m\u001b[38;5;241m.\u001b[39m_iterator\n\u001b[1;32m    434\u001b[0m \u001b[38;5;28;01melse\u001b[39;00m:\n\u001b[0;32m--> 435\u001b[0m     \u001b[38;5;28;01mreturn\u001b[39;00m \u001b[38;5;28;43mself\u001b[39;49m\u001b[38;5;241;43m.\u001b[39;49m\u001b[43m_get_iterator\u001b[49m\u001b[43m(\u001b[49m\u001b[43m)\u001b[49m\n",
      "File \u001b[0;32m~/miniconda3/envs/train/lib/python3.9/site-packages/torch/utils/data/dataloader.py:381\u001b[0m, in \u001b[0;36mDataLoader._get_iterator\u001b[0;34m(self)\u001b[0m\n\u001b[1;32m    379\u001b[0m \u001b[38;5;28;01melse\u001b[39;00m:\n\u001b[1;32m    380\u001b[0m     \u001b[38;5;28mself\u001b[39m\u001b[38;5;241m.\u001b[39mcheck_worker_number_rationality()\n\u001b[0;32m--> 381\u001b[0m     \u001b[38;5;28;01mreturn\u001b[39;00m \u001b[43m_MultiProcessingDataLoaderIter\u001b[49m\u001b[43m(\u001b[49m\u001b[38;5;28;43mself\u001b[39;49m\u001b[43m)\u001b[49m\n",
      "File \u001b[0;32m~/miniconda3/envs/train/lib/python3.9/site-packages/torch/utils/data/dataloader.py:1072\u001b[0m, in \u001b[0;36m_MultiProcessingDataLoaderIter.__init__\u001b[0;34m(self, loader)\u001b[0m\n\u001b[1;32m   1070\u001b[0m _utils\u001b[38;5;241m.\u001b[39msignal_handling\u001b[38;5;241m.\u001b[39m_set_SIGCHLD_handler()\n\u001b[1;32m   1071\u001b[0m \u001b[38;5;28mself\u001b[39m\u001b[38;5;241m.\u001b[39m_worker_pids_set \u001b[38;5;241m=\u001b[39m \u001b[38;5;28;01mTrue\u001b[39;00m\n\u001b[0;32m-> 1072\u001b[0m \u001b[38;5;28;43mself\u001b[39;49m\u001b[38;5;241;43m.\u001b[39;49m\u001b[43m_reset\u001b[49m\u001b[43m(\u001b[49m\u001b[43mloader\u001b[49m\u001b[43m,\u001b[49m\u001b[43m \u001b[49m\u001b[43mfirst_iter\u001b[49m\u001b[38;5;241;43m=\u001b[39;49m\u001b[38;5;28;43;01mTrue\u001b[39;49;00m\u001b[43m)\u001b[49m\n",
      "File \u001b[0;32m~/miniconda3/envs/train/lib/python3.9/site-packages/torch/utils/data/dataloader.py:1105\u001b[0m, in \u001b[0;36m_MultiProcessingDataLoaderIter._reset\u001b[0;34m(self, loader, first_iter)\u001b[0m\n\u001b[1;32m   1103\u001b[0m \u001b[38;5;66;03m# prime the prefetch loop\u001b[39;00m\n\u001b[1;32m   1104\u001b[0m \u001b[38;5;28;01mfor\u001b[39;00m _ \u001b[38;5;129;01min\u001b[39;00m \u001b[38;5;28mrange\u001b[39m(\u001b[38;5;28mself\u001b[39m\u001b[38;5;241m.\u001b[39m_prefetch_factor \u001b[38;5;241m*\u001b[39m \u001b[38;5;28mself\u001b[39m\u001b[38;5;241m.\u001b[39m_num_workers):\n\u001b[0;32m-> 1105\u001b[0m     \u001b[38;5;28;43mself\u001b[39;49m\u001b[38;5;241;43m.\u001b[39;49m\u001b[43m_try_put_index\u001b[49m\u001b[43m(\u001b[49m\u001b[43m)\u001b[49m\n",
      "File \u001b[0;32m~/miniconda3/envs/train/lib/python3.9/site-packages/torch/utils/data/dataloader.py:1339\u001b[0m, in \u001b[0;36m_MultiProcessingDataLoaderIter._try_put_index\u001b[0;34m(self)\u001b[0m\n\u001b[1;32m   1336\u001b[0m \u001b[38;5;28;01massert\u001b[39;00m \u001b[38;5;28mself\u001b[39m\u001b[38;5;241m.\u001b[39m_tasks_outstanding \u001b[38;5;241m<\u001b[39m \u001b[38;5;28mself\u001b[39m\u001b[38;5;241m.\u001b[39m_prefetch_factor \u001b[38;5;241m*\u001b[39m \u001b[38;5;28mself\u001b[39m\u001b[38;5;241m.\u001b[39m_num_workers\n\u001b[1;32m   1338\u001b[0m \u001b[38;5;28;01mtry\u001b[39;00m:\n\u001b[0;32m-> 1339\u001b[0m     index \u001b[38;5;241m=\u001b[39m \u001b[38;5;28;43mself\u001b[39;49m\u001b[38;5;241;43m.\u001b[39;49m\u001b[43m_next_index\u001b[49m\u001b[43m(\u001b[49m\u001b[43m)\u001b[49m\n\u001b[1;32m   1340\u001b[0m \u001b[38;5;28;01mexcept\u001b[39;00m \u001b[38;5;167;01mStopIteration\u001b[39;00m:\n\u001b[1;32m   1341\u001b[0m     \u001b[38;5;28;01mreturn\u001b[39;00m\n",
      "File \u001b[0;32m~/miniconda3/envs/train/lib/python3.9/site-packages/torch/utils/data/dataloader.py:618\u001b[0m, in \u001b[0;36m_BaseDataLoaderIter._next_index\u001b[0;34m(self)\u001b[0m\n\u001b[1;32m    617\u001b[0m \u001b[38;5;28;01mdef\u001b[39;00m \u001b[38;5;21m_next_index\u001b[39m(\u001b[38;5;28mself\u001b[39m):\n\u001b[0;32m--> 618\u001b[0m     \u001b[38;5;28;01mreturn\u001b[39;00m \u001b[38;5;28;43mnext\u001b[39;49m\u001b[43m(\u001b[49m\u001b[38;5;28;43mself\u001b[39;49m\u001b[38;5;241;43m.\u001b[39;49m\u001b[43m_sampler_iter\u001b[49m\u001b[43m)\u001b[49m\n",
      "File \u001b[0;32m~/miniconda3/envs/train/lib/python3.9/site-packages/torch/utils/data/sampler.py:244\u001b[0m, in \u001b[0;36mBatchSampler.__iter__\u001b[0;34m(self)\u001b[0m\n\u001b[1;32m    241\u001b[0m \u001b[38;5;28;01mdef\u001b[39;00m \u001b[38;5;21m__iter__\u001b[39m(\u001b[38;5;28mself\u001b[39m) \u001b[38;5;241m-\u001b[39m\u001b[38;5;241m>\u001b[39m Iterator[List[\u001b[38;5;28mint\u001b[39m]]:\n\u001b[1;32m    242\u001b[0m     \u001b[38;5;66;03m# Implemented based on the benchmarking in https://github.com/pytorch/pytorch/pull/76951\u001b[39;00m\n\u001b[1;32m    243\u001b[0m     \u001b[38;5;28;01mif\u001b[39;00m \u001b[38;5;28mself\u001b[39m\u001b[38;5;241m.\u001b[39mdrop_last:\n\u001b[0;32m--> 244\u001b[0m         sampler_iter \u001b[38;5;241m=\u001b[39m \u001b[38;5;28;43miter\u001b[39;49m\u001b[43m(\u001b[49m\u001b[38;5;28;43mself\u001b[39;49m\u001b[38;5;241;43m.\u001b[39;49m\u001b[43msampler\u001b[49m\u001b[43m)\u001b[49m\n\u001b[1;32m    245\u001b[0m         \u001b[38;5;28;01mwhile\u001b[39;00m \u001b[38;5;28;01mTrue\u001b[39;00m:\n\u001b[1;32m    246\u001b[0m             \u001b[38;5;28;01mtry\u001b[39;00m:\n",
      "File \u001b[0;32m~/projects/qtrain/qtrain/sampler/weighted_sampling.py:35\u001b[0m, in \u001b[0;36mWeightedRandomSampler.__iter__\u001b[0;34m(self)\u001b[0m\n\u001b[1;32m     33\u001b[0m indices \u001b[38;5;241m=\u001b[39m []\n\u001b[1;32m     34\u001b[0m \u001b[38;5;28;01mfor\u001b[39;00m c \u001b[38;5;129;01min\u001b[39;00m \u001b[38;5;28mrange\u001b[39m(\u001b[38;5;241m2\u001b[39m):\n\u001b[0;32m---> 35\u001b[0m     indices_c \u001b[38;5;241m=\u001b[39m \u001b[43mnp\u001b[49m\u001b[38;5;241;43m.\u001b[39;49m\u001b[43mrandom\u001b[49m\u001b[38;5;241;43m.\u001b[39;49m\u001b[43mchoice\u001b[49m\u001b[43m(\u001b[49m\u001b[38;5;28;43mself\u001b[39;49m\u001b[38;5;241;43m.\u001b[39;49m\u001b[43mindices\u001b[49m\u001b[43m[\u001b[49m\u001b[43mc\u001b[49m\u001b[43m]\u001b[49m\u001b[43m,\u001b[49m\u001b[43m \u001b[49m\u001b[43msize\u001b[49m\u001b[38;5;241;43m=\u001b[39;49m\u001b[43mnp\u001b[49m\u001b[38;5;241;43m.\u001b[39;49m\u001b[43mcount_nonzero\u001b[49m\u001b[43m(\u001b[49m\u001b[43mchoices\u001b[49m\u001b[43m \u001b[49m\u001b[38;5;241;43m==\u001b[39;49m\u001b[43m \u001b[49m\u001b[43mc\u001b[49m\u001b[43m)\u001b[49m\u001b[43m,\u001b[49m\u001b[43m \u001b[49m\u001b[43mreplace\u001b[49m\u001b[38;5;241;43m=\u001b[39;49m\u001b[38;5;28;43;01mFalse\u001b[39;49;00m\u001b[43m)\u001b[49m\n\u001b[1;32m     36\u001b[0m     indices\u001b[38;5;241m.\u001b[39mextend(indices_c\u001b[38;5;241m.\u001b[39mtolist())\n\u001b[1;32m     37\u001b[0m \u001b[38;5;28;01mreturn\u001b[39;00m \u001b[38;5;28miter\u001b[39m(indices)\n",
      "File \u001b[0;32mmtrand.pyx:965\u001b[0m, in \u001b[0;36mnumpy.random.mtrand.RandomState.choice\u001b[0;34m()\u001b[0m\n",
      "\u001b[0;31mValueError\u001b[0m: Cannot take a larger sample than population when 'replace=False'"
     ]
    }
   ],
   "source": [
    "a, b = next(iter(loader))\n",
    "a.shape, b.shape"
   ]
  },
  {
   "cell_type": "code",
   "execution_count": 25,
   "id": "0269b9fd",
   "metadata": {},
   "outputs": [
    {
     "data": {
      "text/plain": [
       "{'bottleneck': tensor([[[[ 1.2986e+00,  4.2459e+00,  2.8707e-02,  ..., -2.1694e-02,\n",
       "            -5.7371e-01,  3.2544e-01],\n",
       "           [ 4.1972e+00,  1.2084e+00,  2.0003e+00,  ...,  6.2121e+00,\n",
       "             3.6535e+00,  1.9038e+00],\n",
       "           [ 6.2838e+00,  5.5532e+00,  5.2816e+00,  ...,  6.0779e+00,\n",
       "             5.2231e+00,  1.1180e+00],\n",
       "           ...,\n",
       "           [ 2.2596e+00,  2.1190e+00,  1.0587e+00,  ..., -1.7133e+00,\n",
       "            -2.7287e+00, -3.9565e+00],\n",
       "           [ 1.1604e+00, -5.4772e-01, -1.7022e+00,  ..., -2.9679e+00,\n",
       "            -3.4359e+00, -2.7978e+00],\n",
       "           [-4.3790e+00,  1.4270e+00,  5.0571e-01,  ..., -2.7032e+00,\n",
       "            -3.3087e+00, -5.0852e+00]],\n",
       " \n",
       "          [[ 1.2102e+00,  1.0155e+00,  3.6901e-01,  ..., -1.2052e+00,\n",
       "             5.3189e-01,  1.6197e+00],\n",
       "           [ 1.0200e+00,  3.0188e-01,  8.6630e-01,  ..., -7.6782e-01,\n",
       "             1.6227e+00,  6.0388e-01],\n",
       "           [ 1.2882e+00, -9.6776e-01,  6.3823e-01,  ..., -1.5994e+00,\n",
       "             1.0503e+00, -1.1417e-02],\n",
       "           ...,\n",
       "           [-4.2142e-01,  2.8738e-01, -2.1718e+00,  ..., -6.0536e+00,\n",
       "             1.1198e+00,  5.2197e+00],\n",
       "           [ 9.2364e-01,  4.4244e-01, -2.8310e+00,  ..., -4.0003e+00,\n",
       "            -1.0354e+00,  3.0853e+00],\n",
       "           [ 1.8187e+00,  7.6345e-01, -2.0948e+00,  ..., -2.1335e+00,\n",
       "             1.1572e+00,  1.1954e+00]],\n",
       " \n",
       "          [[ 7.3412e-01,  2.1280e-01,  2.6161e+00,  ...,  6.4081e-01,\n",
       "             8.0110e-01,  1.1236e+00],\n",
       "           [-9.2591e-01,  2.9667e+00,  1.8275e-01,  ..., -1.2825e+00,\n",
       "             1.4906e-01,  2.1922e+00],\n",
       "           [-3.8330e+00, -3.0652e-01, -1.2610e+00,  ..., -2.6586e+00,\n",
       "             1.9270e+00,  3.8469e+00],\n",
       "           ...,\n",
       "           [-7.0428e-01,  4.3318e-01,  1.0666e+00,  ..., -9.8425e-01,\n",
       "            -2.5671e+00, -2.0803e+00],\n",
       "           [ 1.5188e-01,  1.6737e+00,  1.5425e+00,  ...,  1.8744e+00,\n",
       "            -3.4805e+00, -1.2261e+00],\n",
       "           [ 4.3629e+00,  2.1823e+00,  1.4030e+00,  ...,  1.7932e+00,\n",
       "            -6.2146e-01,  3.8653e+00]],\n",
       " \n",
       "          ...,\n",
       " \n",
       "          [[ 2.7685e+00,  1.9041e+00,  6.6818e-01,  ...,  3.0412e+00,\n",
       "             1.0258e+00,  5.6488e+00],\n",
       "           [ 3.1480e+00, -3.0760e+00, -7.5670e-01,  ...,  2.5360e-01,\n",
       "             1.3262e-01,  1.3346e+00],\n",
       "           [ 6.5491e+00,  1.2756e+00, -3.5615e+00,  ...,  4.9925e+00,\n",
       "             4.6106e-01,  3.0211e+00],\n",
       "           ...,\n",
       "           [-3.9018e-01, -1.9347e+00, -1.0005e+01,  ..., -2.9559e+00,\n",
       "             2.3150e+00,  6.3101e+00],\n",
       "           [-8.0357e-01, -6.2896e+00, -8.2318e+00,  ..., -6.0728e+00,\n",
       "            -3.4127e+00,  2.5368e+00],\n",
       "           [ 1.8573e-01, -5.5077e+00, -6.1443e+00,  ..., -4.0836e+00,\n",
       "            -2.2314e+00, -6.8228e+00]],\n",
       " \n",
       "          [[ 4.4007e+00,  3.8311e+00, -3.6109e-01,  ..., -1.1100e-01,\n",
       "            -3.4558e+00,  2.4407e+00],\n",
       "           [ 5.3664e+00,  1.3560e+00,  1.1193e+00,  ...,  2.1624e+00,\n",
       "            -7.7953e-01, -2.6201e+00],\n",
       "           [ 2.2962e+00, -7.9519e-01,  8.3402e-01,  ...,  5.6719e+00,\n",
       "             9.4955e-01, -1.4690e+00],\n",
       "           ...,\n",
       "           [ 1.5519e+00, -1.1607e+00, -4.4513e+00,  ...,  2.3026e+00,\n",
       "             2.0660e+00,  9.0189e-01],\n",
       "           [ 1.3022e+00, -1.6445e+00, -2.7568e+00,  ...,  1.1415e+00,\n",
       "             2.9409e+00,  1.1625e+00],\n",
       "           [-3.0056e-01, -5.3455e-01, -2.9274e+00,  ..., -1.2008e+00,\n",
       "            -1.3150e-01, -2.7576e+00]],\n",
       " \n",
       "          [[ 3.1718e+00,  3.9359e+00,  2.4975e+00,  ...,  2.2098e+00,\n",
       "             2.2700e+00,  4.6116e+00],\n",
       "           [ 1.1273e+00, -2.3350e-01,  1.4791e+00,  ...,  7.3189e-01,\n",
       "             1.5401e+00,  1.1249e+00],\n",
       "           [-4.3133e-01,  2.6644e+00,  1.7136e+00,  ...,  1.7346e+00,\n",
       "             5.2176e+00,  4.7412e+00],\n",
       "           ...,\n",
       "           [ 2.3491e+00,  3.1924e+00,  1.4998e+00,  ..., -3.9112e+00,\n",
       "             9.0620e-01,  3.0986e+00],\n",
       "           [ 5.4128e+00,  3.2767e+00,  1.8841e+00,  ..., -5.7681e-01,\n",
       "             8.6251e-01,  2.1285e+00],\n",
       "           [ 4.9085e+00,  4.0137e+00,  5.3421e+00,  ...,  2.9512e+00,\n",
       "             2.6366e+00,  3.5231e+00]]],\n",
       " \n",
       " \n",
       "         [[[ 2.6258e+00,  2.7266e+00,  1.4015e+00,  ...,  5.3571e-01,\n",
       "             6.5482e-01,  2.5316e-03],\n",
       "           [ 4.6388e+00,  3.7926e+00,  2.3830e-01,  ..., -2.1609e+00,\n",
       "             6.7007e-02, -4.1631e-01],\n",
       "           [ 1.6261e+00, -1.4062e+00, -1.2203e-01,  ..., -7.0517e+00,\n",
       "            -3.2046e+00, -3.7690e+00],\n",
       "           ...,\n",
       "           [-1.4077e+00,  1.3593e+00,  3.8321e-01,  ..., -4.7691e+00,\n",
       "            -2.0684e+00, -1.7070e+00],\n",
       "           [ 6.4835e-01,  1.4098e+00,  1.3295e+00,  ...,  5.7641e-01,\n",
       "             5.7082e-01, -7.7880e-01],\n",
       "           [-8.4062e-02,  1.6644e+00,  1.2321e+00,  ...,  2.1785e+00,\n",
       "             2.1111e+00, -7.3051e-01]],\n",
       " \n",
       "          [[-4.8355e+00, -2.2517e+00, -9.4420e-01,  ..., -1.2935e+00,\n",
       "            -1.5441e+00, -3.0824e+00],\n",
       "           [-4.3311e+00, -1.7292e+00,  1.7633e-02,  ...,  5.5351e-02,\n",
       "            -7.5286e-01, -7.7324e-01],\n",
       "           [-3.3528e+00, -1.2527e-01,  2.4917e+00,  ..., -3.0932e+00,\n",
       "            -1.5030e+00,  4.1270e-01],\n",
       "           ...,\n",
       "           [ 8.3988e-01,  5.4246e+00,  5.5951e+00,  ..., -4.4015e+00,\n",
       "            -3.5396e-01, -5.0148e-01],\n",
       "           [-1.2469e+00,  5.1880e+00,  2.3947e+00,  ..., -9.7733e-01,\n",
       "            -7.5955e-01, -1.5430e+00],\n",
       "           [-6.8818e+00, -7.5246e-01, -1.0106e-01,  ..., -5.2993e+00,\n",
       "            -3.6473e+00, -9.1706e+00]],\n",
       " \n",
       "          [[-3.9999e+00, -2.3736e+00, -2.0274e+00,  ..., -3.1934e-01,\n",
       "            -2.6192e+00, -2.9888e+00],\n",
       "           [-4.0393e-01,  1.7984e-01, -7.5822e-01,  ..., -1.7911e+00,\n",
       "            -4.0329e-01,  3.1799e-01],\n",
       "           [ 2.5870e+00,  1.9742e-01, -1.8860e+00,  ..., -3.2958e-01,\n",
       "             1.8337e+00,  1.5945e+00],\n",
       "           ...,\n",
       "           [ 7.1999e-01, -2.0752e+00,  2.8655e+00,  ...,  3.7718e+00,\n",
       "            -3.6025e-02,  7.1064e-01],\n",
       "           [ 1.9549e-01,  4.3544e-01,  4.2379e+00,  ...,  7.1729e+00,\n",
       "             5.6275e+00,  2.6225e+00],\n",
       "           [ 2.1634e+00,  1.2480e+00, -2.6607e+00,  ...,  1.4840e+00,\n",
       "             1.2208e+00,  3.2476e+00]],\n",
       " \n",
       "          ...,\n",
       " \n",
       "          [[ 6.8299e+00,  2.3752e+00,  1.9814e+00,  ..., -7.3401e-01,\n",
       "            -1.6851e+00,  1.6181e+00],\n",
       "           [ 2.9234e+00, -1.7336e+00, -2.3472e+00,  ..., -8.2908e-01,\n",
       "            -2.4396e+00,  7.6111e-01],\n",
       "           [ 8.3894e+00,  1.0666e+00,  1.5668e+00,  ...,  6.7522e+00,\n",
       "            -5.6140e-01, -2.0202e-01],\n",
       "           ...,\n",
       "           [ 3.5535e+00, -2.9402e+00, -9.8166e-01,  ..., -8.5705e-01,\n",
       "            -3.9100e+00, -6.7212e+00],\n",
       "           [ 2.9236e-01, -2.3537e+00, -3.2064e+00,  ..., -6.5827e+00,\n",
       "            -6.6399e+00, -5.0466e+00],\n",
       "           [ 2.5481e+00, -9.8133e-01, -2.3975e+00,  ..., -5.4709e+00,\n",
       "            -8.2460e+00, -6.1090e+00]],\n",
       " \n",
       "          [[ 7.3217e-01,  2.5178e+00,  7.4765e-01,  ...,  1.0873e+00,\n",
       "             1.4445e+00,  2.2382e+00],\n",
       "           [ 4.0925e+00,  1.8481e+00,  7.8711e-01,  ...,  5.9304e-01,\n",
       "             2.1214e+00,  3.4397e+00],\n",
       "           [ 3.4002e+00, -8.5022e-01, -2.8055e+00,  ..., -9.5969e+00,\n",
       "            -2.7239e+00, -2.0495e+00],\n",
       "           ...,\n",
       "           [ 1.4215e+00, -1.0777e+00, -2.9924e+00,  ..., -7.4949e+00,\n",
       "            -6.0763e+00, -6.8956e+00],\n",
       "           [-9.7561e-01, -3.6770e+00, -1.2929e+00,  ...,  3.4583e+00,\n",
       "             3.5126e-01, -2.5561e+00],\n",
       "           [ 5.5180e-01, -5.2037e+00, -5.8988e+00,  ..., -3.9788e+00,\n",
       "            -5.1128e+00,  1.8787e+00]],\n",
       " \n",
       "          [[ 3.4952e+00,  3.4798e-01, -8.2107e-01,  ..., -2.2763e-01,\n",
       "            -8.3050e-02,  1.9620e-01],\n",
       "           [ 1.2791e+00,  1.3444e+00, -1.0755e+00,  ..., -1.6443e+00,\n",
       "            -1.0672e+00,  8.8371e-02],\n",
       "           [ 1.1914e+00,  1.0029e+00, -5.4344e+00,  ..., -3.8305e+00,\n",
       "            -2.7995e+00, -1.5977e+00],\n",
       "           ...,\n",
       "           [ 1.6000e+00, -1.1637e+00, -5.7633e+00,  ..., -8.9128e+00,\n",
       "            -3.0393e+00, -2.6819e+00],\n",
       "           [ 3.1282e+00, -6.0732e-01,  4.1646e-01,  ..., -2.7008e+00,\n",
       "            -8.7898e-01, -1.6720e+00],\n",
       "           [ 1.6437e+00, -1.2452e+00, -8.6561e-01,  ..., -5.5101e-01,\n",
       "            -1.8378e-01,  1.4171e+00]]],\n",
       " \n",
       " \n",
       "         [[[-1.0321e-01,  4.5362e-01, -1.0227e+00,  ..., -6.1814e-01,\n",
       "             8.9161e-01,  9.7810e-01],\n",
       "           [ 2.7030e+00,  1.6227e+00,  3.7824e+00,  ...,  1.8828e+00,\n",
       "             2.4991e+00,  2.1159e+00],\n",
       "           [ 4.9078e-01,  2.3426e+00,  1.7220e+00,  ..., -8.4270e+00,\n",
       "            -1.3871e+00, -4.7910e-02],\n",
       "           ...,\n",
       "           [ 8.5509e-01, -1.6412e+00, -4.2269e+00,  ..., -2.5127e+00,\n",
       "             1.4378e+00,  4.1356e+00],\n",
       "           [ 3.4897e+00, -2.0638e+00, -7.3604e+00,  ..., -6.8348e+00,\n",
       "            -1.9120e-01,  4.6924e+00],\n",
       "           [ 4.7878e+00,  1.1054e+00, -3.0214e+00,  ..., -4.8100e+00,\n",
       "             5.5489e-01,  3.0102e+00]],\n",
       " \n",
       "          [[-1.9688e+00, -3.6840e-01,  2.9636e-02,  ...,  1.4431e+00,\n",
       "             8.2060e-01, -7.3018e-01],\n",
       "           [-2.3373e+00, -7.2346e-01,  4.3532e-01,  ..., -1.3238e+00,\n",
       "            -9.5501e-01, -5.3952e-01],\n",
       "           [-2.5323e+00, -6.1699e-01, -1.5600e+00,  ..., -2.2136e+00,\n",
       "            -7.6801e-01,  1.4755e-01],\n",
       "           ...,\n",
       "           [-1.5942e+00, -1.1920e+00,  3.0358e-01,  ...,  4.6028e+00,\n",
       "             4.2335e+00,  2.5189e+00],\n",
       "           [ 4.2201e-01, -5.2046e-01,  2.2405e+00,  ...,  6.0555e+00,\n",
       "             1.7558e+00,  5.7192e-01],\n",
       "           [-4.5441e+00,  2.7694e+00,  6.6953e+00,  ...,  5.5133e+00,\n",
       "             2.1884e+00, -4.1937e+00]],\n",
       " \n",
       "          [[-4.8184e+00, -3.6806e+00, -1.0957e+00,  ..., -1.5136e+00,\n",
       "            -3.1465e+00, -1.7988e+00],\n",
       "           [-2.7395e+00, -1.8765e+00,  2.6324e-01,  ..., -1.7676e+00,\n",
       "             7.7222e-01, -4.6575e-01],\n",
       "           [-9.8858e-01,  2.2535e-02,  3.2558e-01,  ...,  1.7820e+00,\n",
       "             1.4550e+00,  3.0960e+00],\n",
       "           ...,\n",
       "           [-3.5074e+00,  2.1537e+00,  4.5726e+00,  ...,  1.0961e+00,\n",
       "            -3.0235e-01,  1.9582e+00],\n",
       "           [-3.6858e+00,  2.0358e+00,  1.8337e+00,  ...,  3.1549e-01,\n",
       "            -3.0036e+00,  2.0532e-01],\n",
       "           [-2.7639e+00, -6.9244e-01, -1.7163e+00,  ..., -1.6308e+00,\n",
       "            -4.3327e+00, -1.4874e+00]],\n",
       " \n",
       "          ...,\n",
       " \n",
       "          [[ 7.9524e+00,  6.3105e-01, -5.4161e-01,  ..., -2.9921e-01,\n",
       "            -2.8010e+00, -6.2476e-02],\n",
       "           [ 5.7139e+00,  8.5837e-01, -1.0099e+00,  ..., -1.0874e+00,\n",
       "            -5.3222e+00, -4.5709e+00],\n",
       "           [ 6.4657e+00,  3.1029e+00, -2.8853e+00,  ..., -3.6395e-01,\n",
       "            -1.0451e+00, -3.3512e+00],\n",
       "           ...,\n",
       "           [ 3.3585e+00, -2.3716e+00, -4.7641e+00,  ...,  2.1841e+00,\n",
       "             2.0695e+00,  1.0622e+00],\n",
       "           [ 5.7516e+00,  1.2092e+00,  2.2091e+00,  ...,  2.2663e+00,\n",
       "             5.4191e+00,  5.6588e+00],\n",
       "           [ 7.0670e+00,  6.0633e+00,  3.1250e+00,  ...,  5.5530e+00,\n",
       "             4.2054e+00,  9.7910e+00]],\n",
       " \n",
       "          [[ 4.2011e+00,  1.7499e+00, -1.5711e-01,  ..., -1.5423e+00,\n",
       "            -8.9901e-01,  6.4603e-01],\n",
       "           [ 4.2018e+00,  1.5311e+00,  2.2581e+00,  ...,  1.0253e+00,\n",
       "            -6.6288e-01, -2.1507e-01],\n",
       "           [ 4.9314e+00,  1.1504e+00,  3.7333e+00,  ...,  4.8656e+00,\n",
       "            -6.1401e-01, -1.4101e+00],\n",
       "           ...,\n",
       "           [ 3.6312e+00,  2.8468e-01,  7.5198e-01,  ...,  7.6992e-01,\n",
       "             5.4992e-01, -5.5609e-01],\n",
       "           [ 7.1166e-02, -3.0072e+00, -1.6141e+00,  ...,  3.6481e+00,\n",
       "             7.4714e-01,  1.7055e-01],\n",
       "           [ 6.4460e-01,  6.2355e-01,  1.7783e-01,  ...,  1.5983e+00,\n",
       "             3.1991e-01,  1.4007e+00]],\n",
       " \n",
       "          [[ 5.8321e-01, -2.9932e-01,  4.3296e-02,  ..., -3.8880e-01,\n",
       "            -2.1443e+00, -2.3143e+00],\n",
       "           [-6.6844e-01, -6.9657e-01, -5.2242e-01,  ...,  8.5534e-02,\n",
       "            -1.5838e+00, -2.7662e+00],\n",
       "           [-9.8799e-01, -7.3098e-01, -3.6093e-01,  ..., -1.1396e+00,\n",
       "             4.4956e-01, -1.9872e+00],\n",
       "           ...,\n",
       "           [-9.3358e-01, -4.0046e-01, -3.1604e-02,  ..., -1.8384e+00,\n",
       "            -1.5750e+00, -1.0141e+00],\n",
       "           [ 4.3928e-01, -1.5188e+00, -9.1221e-01,  ...,  1.2789e+00,\n",
       "             2.9772e+00,  3.6967e+00],\n",
       "           [ 2.1114e+00,  1.6011e+00, -1.4760e+00,  ...,  1.5228e+00,\n",
       "             2.7223e+00,  7.1354e+00]]],\n",
       " \n",
       " \n",
       "         [[[ 4.6760e+00,  3.9826e+00,  1.9684e+00,  ...,  3.2501e+00,\n",
       "             1.3041e+00,  2.9171e+00],\n",
       "           [ 5.6929e+00,  3.6687e+00,  3.1869e+00,  ...,  4.4346e+00,\n",
       "             7.1777e-01,  1.1764e-01],\n",
       "           [ 3.8947e+00,  3.1417e+00, -7.3076e-01,  ...,  1.6218e+00,\n",
       "            -6.2784e-01,  9.4644e-01],\n",
       "           ...,\n",
       "           [-1.5118e+00,  8.5135e-01,  1.2395e+00,  ...,  1.8134e+00,\n",
       "            -3.7839e-02,  1.3635e+00],\n",
       "           [ 6.9621e-01,  1.6659e+00,  5.6998e-01,  ..., -1.1904e+00,\n",
       "             4.0231e-01,  1.5045e+00],\n",
       "           [ 1.8837e-01,  1.4181e+00,  7.4325e-01,  ..., -2.7731e-01,\n",
       "             8.7000e-01,  3.1928e+00]],\n",
       " \n",
       "          [[-3.1598e+00, -2.3557e+00, -3.7153e-01,  ...,  3.2973e+00,\n",
       "            -1.7634e+00, -2.2921e+00],\n",
       "           [-1.8455e+00, -1.1506e+00,  1.9496e+00,  ...,  1.8595e+00,\n",
       "             7.2474e-01,  1.5910e+00],\n",
       "           [-2.6357e-01,  6.7120e-01,  2.4417e+00,  ...,  3.2105e+00,\n",
       "             2.2621e+00,  2.7973e+00],\n",
       "           ...,\n",
       "           [-1.7944e+00, -1.5778e+00,  1.5610e+00,  ...,  3.0274e-01,\n",
       "             8.4520e-01,  3.4281e+00],\n",
       "           [-4.2821e+00, -2.5334e+00, -2.6915e-01,  ..., -1.6332e+00,\n",
       "             1.3946e+00,  2.5378e+00],\n",
       "           [-6.5004e+00, -1.1535e+00, -1.0576e+00,  ..., -2.0710e+00,\n",
       "             1.4796e-01, -1.3369e+00]],\n",
       " \n",
       "          [[-9.7886e-01, -5.0218e-01,  1.7855e+00,  ...,  5.4292e-01,\n",
       "            -9.5246e-01, -1.3452e+00],\n",
       "           [ 1.8250e-01,  2.4769e+00,  8.5659e-01,  ...,  2.6517e+00,\n",
       "             6.1451e-01, -4.6291e-01],\n",
       "           [-3.4999e-02,  2.8204e+00, -2.2793e+00,  ..., -2.3415e+00,\n",
       "             1.3601e+00,  2.4369e+00],\n",
       "           ...,\n",
       "           [-4.9588e+00, -4.0536e+00, -3.7894e+00,  ...,  6.9100e+00,\n",
       "             2.4097e-01, -6.6799e-01],\n",
       "           [-2.3238e+00, -1.0719e+00, -1.7020e+00,  ...,  3.8646e+00,\n",
       "            -1.7884e+00, -1.8026e+00],\n",
       "           [-5.1432e-01,  4.6127e-01,  9.5992e-01,  ...,  3.0846e+00,\n",
       "            -2.8089e+00, -3.3117e+00]],\n",
       " \n",
       "          ...,\n",
       " \n",
       "          [[ 2.7466e+00,  8.3658e-02,  2.1678e+00,  ...,  2.4997e+00,\n",
       "             1.6995e+00,  6.5947e+00],\n",
       "           [-8.7315e-02, -1.5762e+00, -1.4754e+00,  ..., -2.1795e+00,\n",
       "            -1.4782e+00,  2.6692e+00],\n",
       "           [ 2.2932e+00, -3.8115e+00, -3.7246e+00,  ..., -3.2282e+00,\n",
       "            -4.8081e+00,  1.8606e+00],\n",
       "           ...,\n",
       "           [ 4.2159e+00, -1.2496e+00, -3.8415e+00,  ..., -1.0983e+00,\n",
       "            -4.9750e+00, -2.0408e+00],\n",
       "           [ 4.7796e+00, -1.4047e+00, -5.3313e+00,  ..., -3.6600e+00,\n",
       "            -7.4282e+00, -5.3896e+00],\n",
       "           [ 9.3353e+00,  2.4354e+00, -1.5864e+00,  ..., -8.8392e-01,\n",
       "            -5.1170e+00,  2.3635e+00]],\n",
       " \n",
       "          [[ 2.8019e+00,  6.8293e-01, -4.0966e-01,  ..., -1.4460e+00,\n",
       "            -2.0139e-01,  9.2696e-01],\n",
       "           [ 1.9415e+00, -3.3601e-01, -1.2507e+00,  ..., -8.4986e-01,\n",
       "             8.8059e-01,  2.3235e-01],\n",
       "           [ 4.5836e-01, -2.7385e-01,  3.2358e+00,  ..., -6.5378e-01,\n",
       "            -2.3962e+00, -2.3023e+00],\n",
       "           ...,\n",
       "           [-2.9258e+00, -2.8335e+00, -3.3255e+00,  ..., -3.1249e+00,\n",
       "            -2.9138e+00, -2.5536e+00],\n",
       "           [-2.4695e+00, -9.7903e-01, -4.1811e-01,  ..., -1.6853e+00,\n",
       "             1.5134e+00,  1.4696e+00],\n",
       "           [ 1.6347e+00, -1.6857e+00,  8.2502e-02,  ...,  1.6162e+00,\n",
       "             2.5786e+00,  4.3629e+00]],\n",
       " \n",
       "          [[ 3.1002e+00,  2.4472e+00,  2.3228e+00,  ...,  1.6685e+00,\n",
       "             3.3089e+00,  3.4201e+00],\n",
       "           [ 3.4370e+00,  3.1537e+00,  2.2386e+00,  ...,  1.6828e+00,\n",
       "             1.6581e+00,  2.5428e+00],\n",
       "           [ 3.1472e+00,  2.6282e+00,  2.7719e+00,  ...,  5.0335e-01,\n",
       "            -1.4512e-01, -5.5661e-01],\n",
       "           ...,\n",
       "           [ 2.2702e+00,  4.9671e-01, -3.5125e-01,  ..., -4.8895e+00,\n",
       "            -8.6062e-01,  6.7323e-01],\n",
       "           [ 1.4568e+00, -5.6038e-01, -2.9691e+00,  ..., -5.7497e+00,\n",
       "            -4.4915e+00, -1.8801e+00],\n",
       "           [ 1.4773e+00, -5.4130e-01, -1.7695e+00,  ..., -5.5515e+00,\n",
       "            -4.3585e+00, -2.5294e+00]]]], device='cuda:0', dtype=torch.float64,\n",
       "        grad_fn=<AddBackward0>),\n",
       " 'decoder_output': tensor([[[[2.3723e-01, 0.0000e+00, 0.0000e+00,  ..., 0.0000e+00,\n",
       "            0.0000e+00, 1.7015e-01],\n",
       "           [4.2418e-01, 5.4174e-02, 9.8775e-02,  ..., 1.1406e-01,\n",
       "            0.0000e+00, 1.7825e-01],\n",
       "           [3.5056e-01, 1.2954e-01, 1.5181e-01,  ..., 0.0000e+00,\n",
       "            0.0000e+00, 4.8219e-02],\n",
       "           ...,\n",
       "           [5.6918e-01, 5.4819e-01, 9.2451e-02,  ..., 3.3508e-01,\n",
       "            0.0000e+00, 6.0125e-02],\n",
       "           [6.5774e-01, 3.3657e-01, 5.7657e-01,  ..., 0.0000e+00,\n",
       "            0.0000e+00, 1.4903e-01],\n",
       "           [6.8285e-01, 2.7863e-01, 4.9336e-01,  ..., 4.5335e-01,\n",
       "            3.8289e-01, 2.6561e-01]],\n",
       " \n",
       "          [[4.7529e-01, 4.9363e-01, 4.7024e-01,  ..., 2.0798e-01,\n",
       "            4.7097e-01, 6.4647e-01],\n",
       "           [1.6015e-01, 1.4257e-01, 1.4354e-01,  ..., 0.0000e+00,\n",
       "            2.5164e-01, 3.2520e-01],\n",
       "           [2.8749e-02, 2.2327e-01, 5.3821e-02,  ..., 0.0000e+00,\n",
       "            2.5650e-01, 1.6537e-01],\n",
       "           ...,\n",
       "           [0.0000e+00, 3.4363e-01, 2.9416e-01,  ..., 0.0000e+00,\n",
       "            8.1259e-01, 2.0759e-01],\n",
       "           [0.0000e+00, 3.9191e-01, 3.5037e-03,  ..., 0.0000e+00,\n",
       "            4.2974e-01, 1.3459e-01],\n",
       "           [2.2443e-01, 4.5056e-01, 3.1241e-01,  ..., 3.3557e-02,\n",
       "            3.1937e-01, 1.1435e-01]],\n",
       " \n",
       "          [[5.2086e-01, 5.0207e-01, 4.1943e-01,  ..., 2.8919e-01,\n",
       "            1.8007e-01, 1.3231e-01],\n",
       "           [4.6941e-01, 1.3055e-01, 2.8650e-01,  ..., 4.8031e-01,\n",
       "            1.1821e-01, 2.2975e-01],\n",
       "           [3.7294e-01, 2.2181e-02, 3.2370e-01,  ..., 2.4746e-01,\n",
       "            2.3511e-01, 3.7973e-01],\n",
       "           ...,\n",
       "           [7.1734e-01, 2.2691e-01, 7.8762e-01,  ..., 1.0670e-02,\n",
       "            0.0000e+00, 2.1367e-01],\n",
       "           [6.4672e-01, 2.9995e-01, 8.6964e-01,  ..., 0.0000e+00,\n",
       "            7.1822e-02, 1.2203e-01],\n",
       "           [4.0390e-01, 2.7485e-01, 4.0174e-01,  ..., 0.0000e+00,\n",
       "            0.0000e+00, 1.4173e-01]],\n",
       " \n",
       "          ...,\n",
       " \n",
       "          [[1.1495e-01, 2.2967e-01, 2.0149e-01,  ..., 2.4432e-01,\n",
       "            2.5253e-01, 1.8974e-01],\n",
       "           [3.3179e-01, 6.5560e-01, 5.4879e-01,  ..., 5.4746e-01,\n",
       "            2.7436e-01, 2.1600e-01],\n",
       "           [3.4846e-01, 7.2823e-01, 4.0809e-01,  ..., 4.1399e-01,\n",
       "            2.5445e-01, 2.4387e-01],\n",
       "           ...,\n",
       "           [0.0000e+00, 0.0000e+00, 5.3385e-02,  ..., 6.0850e-01,\n",
       "            4.1911e-02, 1.0349e-01],\n",
       "           [0.0000e+00, 0.0000e+00, 0.0000e+00,  ..., 2.2927e-01,\n",
       "            0.0000e+00, 3.9816e-02],\n",
       "           [1.5154e-02, 3.3125e-01, 2.0987e-01,  ..., 4.5911e-01,\n",
       "            1.6885e-01, 9.2228e-02]],\n",
       " \n",
       "          [[0.0000e+00, 0.0000e+00, 0.0000e+00,  ..., 0.0000e+00,\n",
       "            0.0000e+00, 0.0000e+00],\n",
       "           [0.0000e+00, 0.0000e+00, 0.0000e+00,  ..., 0.0000e+00,\n",
       "            0.0000e+00, 1.6196e-02],\n",
       "           [0.0000e+00, 8.8783e-02, 0.0000e+00,  ..., 0.0000e+00,\n",
       "            0.0000e+00, 2.4853e-03],\n",
       "           ...,\n",
       "           [0.0000e+00, 0.0000e+00, 0.0000e+00,  ..., 0.0000e+00,\n",
       "            0.0000e+00, 1.1616e-01],\n",
       "           [4.6463e-01, 3.3158e-01, 0.0000e+00,  ..., 0.0000e+00,\n",
       "            2.5058e-01, 9.0894e-02],\n",
       "           [0.0000e+00, 0.0000e+00, 0.0000e+00,  ..., 0.0000e+00,\n",
       "            0.0000e+00, 0.0000e+00]],\n",
       " \n",
       "          [[4.8510e-01, 2.9436e-01, 3.6946e-01,  ..., 4.0007e-01,\n",
       "            3.2402e-01, 4.1026e-01],\n",
       "           [3.9401e-01, 2.1428e-01, 0.0000e+00,  ..., 3.4909e-01,\n",
       "            2.8042e-01, 3.5781e-01],\n",
       "           [4.1612e-01, 2.7310e-01, 1.0091e-01,  ..., 1.9853e-01,\n",
       "            2.8610e-01, 3.7566e-01],\n",
       "           ...,\n",
       "           [2.7343e-01, 0.0000e+00, 3.2857e-01,  ..., 1.1511e-01,\n",
       "            3.7172e-01, 2.9650e-01],\n",
       "           [1.7931e-01, 1.6770e-01, 3.3881e-01,  ..., 4.0455e-01,\n",
       "            3.4233e-01, 3.4172e-01],\n",
       "           [1.3668e-01, 1.9236e-01, 2.6864e-01,  ..., 9.5603e-02,\n",
       "            1.1950e-01, 3.7073e-01]]],\n",
       " \n",
       " \n",
       "         [[[2.6315e-01, 0.0000e+00, 0.0000e+00,  ..., 0.0000e+00,\n",
       "            0.0000e+00, 1.5715e-01],\n",
       "           [5.0711e-01, 9.9760e-02, 1.2637e-01,  ..., 1.2152e-01,\n",
       "            0.0000e+00, 1.6436e-01],\n",
       "           [3.8616e-01, 2.4473e-01, 1.9763e-01,  ..., 0.0000e+00,\n",
       "            0.0000e+00, 1.5796e-02],\n",
       "           ...,\n",
       "           [5.6590e-01, 4.3660e-01, 9.5202e-02,  ..., 3.1663e-01,\n",
       "            0.0000e+00, 1.3168e-01],\n",
       "           [7.5370e-01, 4.2497e-01, 7.6390e-01,  ..., 0.0000e+00,\n",
       "            4.1677e-02, 1.8354e-01],\n",
       "           [7.5596e-01, 3.3223e-01, 5.8998e-01,  ..., 4.1938e-01,\n",
       "            3.6675e-01, 2.5922e-01]],\n",
       " \n",
       "          [[4.5325e-01, 4.7051e-01, 4.8360e-01,  ..., 1.8455e-01,\n",
       "            4.7018e-01, 6.3680e-01],\n",
       "           [1.6077e-01, 1.1518e-01, 1.6004e-01,  ..., 0.0000e+00,\n",
       "            2.6397e-01, 3.4932e-01],\n",
       "           [3.8004e-02, 1.7647e-01, 1.9003e-02,  ..., 0.0000e+00,\n",
       "            2.8328e-01, 1.4937e-01],\n",
       "           ...,\n",
       "           [0.0000e+00, 3.1020e-01, 1.6575e-01,  ..., 0.0000e+00,\n",
       "            7.9393e-01, 1.4911e-01],\n",
       "           [0.0000e+00, 2.9854e-01, 0.0000e+00,  ..., 0.0000e+00,\n",
       "            3.7300e-01, 1.1466e-01],\n",
       "           [1.6310e-01, 3.7365e-01, 2.6016e-01,  ..., 0.0000e+00,\n",
       "            2.7323e-01, 9.7494e-02]],\n",
       " \n",
       "          [[5.0720e-01, 4.8118e-01, 4.2037e-01,  ..., 2.7567e-01,\n",
       "            1.8901e-01, 1.1567e-01],\n",
       "           [4.4252e-01, 7.1305e-02, 2.6160e-01,  ..., 4.9435e-01,\n",
       "            1.0512e-01, 2.1679e-01],\n",
       "           [3.3204e-01, 0.0000e+00, 2.9109e-01,  ..., 2.1810e-01,\n",
       "            2.1602e-01, 3.7374e-01],\n",
       "           ...,\n",
       "           [7.5289e-01, 2.3159e-01, 8.6663e-01,  ..., 2.6084e-03,\n",
       "            0.0000e+00, 2.2872e-01],\n",
       "           [7.0018e-01, 3.5302e-01, 1.0284e+00,  ..., 0.0000e+00,\n",
       "            1.2440e-01, 1.0313e-01],\n",
       "           [4.2266e-01, 3.2397e-01, 4.8256e-01,  ..., 0.0000e+00,\n",
       "            0.0000e+00, 1.2476e-01]],\n",
       " \n",
       "          ...,\n",
       " \n",
       "          [[1.3000e-01, 2.3210e-01, 2.1895e-01,  ..., 2.4655e-01,\n",
       "            2.4380e-01, 1.9697e-01],\n",
       "           [3.7234e-01, 6.8934e-01, 5.5926e-01,  ..., 5.4415e-01,\n",
       "            2.3961e-01, 1.8164e-01],\n",
       "           [3.7706e-01, 7.5646e-01, 4.2535e-01,  ..., 4.1304e-01,\n",
       "            2.0710e-01, 2.2278e-01],\n",
       "           ...,\n",
       "           [0.0000e+00, 0.0000e+00, 2.1345e-02,  ..., 6.1368e-01,\n",
       "            0.0000e+00, 6.5724e-02],\n",
       "           [0.0000e+00, 0.0000e+00, 0.0000e+00,  ..., 2.2192e-01,\n",
       "            0.0000e+00, 2.8788e-02],\n",
       "           [0.0000e+00, 3.1225e-01, 1.9327e-01,  ..., 4.8886e-01,\n",
       "            1.6356e-01, 9.0061e-02]],\n",
       " \n",
       "          [[0.0000e+00, 0.0000e+00, 0.0000e+00,  ..., 0.0000e+00,\n",
       "            0.0000e+00, 0.0000e+00],\n",
       "           [0.0000e+00, 0.0000e+00, 0.0000e+00,  ..., 0.0000e+00,\n",
       "            0.0000e+00, 3.6184e-02],\n",
       "           [0.0000e+00, 1.0538e-01, 0.0000e+00,  ..., 0.0000e+00,\n",
       "            0.0000e+00, 3.0947e-03],\n",
       "           ...,\n",
       "           [0.0000e+00, 0.0000e+00, 0.0000e+00,  ..., 0.0000e+00,\n",
       "            0.0000e+00, 3.3634e-02],\n",
       "           [4.0179e-01, 2.3023e-01, 9.7793e-04,  ..., 0.0000e+00,\n",
       "            1.9662e-01, 4.4759e-02],\n",
       "           [0.0000e+00, 0.0000e+00, 0.0000e+00,  ..., 0.0000e+00,\n",
       "            0.0000e+00, 0.0000e+00]],\n",
       " \n",
       "          [[4.8835e-01, 2.6884e-01, 3.4187e-01,  ..., 3.9456e-01,\n",
       "            3.1697e-01, 4.0871e-01],\n",
       "           [3.9046e-01, 1.9887e-01, 0.0000e+00,  ..., 2.9662e-01,\n",
       "            2.6041e-01, 3.6558e-01],\n",
       "           [4.3141e-01, 2.9912e-01, 9.5522e-02,  ..., 1.4819e-01,\n",
       "            2.6128e-01, 3.7295e-01],\n",
       "           ...,\n",
       "           [2.7279e-01, 3.3006e-02, 3.4140e-01,  ..., 6.6433e-02,\n",
       "            3.2784e-01, 3.0252e-01],\n",
       "           [1.5368e-01, 1.3095e-01, 2.8459e-01,  ..., 3.9374e-01,\n",
       "            3.0625e-01, 3.2774e-01],\n",
       "           [1.1301e-01, 1.6169e-01, 2.5459e-01,  ..., 1.0165e-01,\n",
       "            9.5696e-02, 3.7600e-01]]],\n",
       " \n",
       " \n",
       "         [[[2.3183e-01, 0.0000e+00, 0.0000e+00,  ..., 0.0000e+00,\n",
       "            0.0000e+00, 1.8377e-01],\n",
       "           [4.1040e-01, 6.8821e-02, 1.2314e-01,  ..., 1.0198e-01,\n",
       "            0.0000e+00, 1.7945e-01],\n",
       "           [3.5797e-01, 1.3281e-01, 1.6831e-01,  ..., 0.0000e+00,\n",
       "            0.0000e+00, 5.7583e-02],\n",
       "           ...,\n",
       "           [5.5490e-01, 4.9508e-01, 1.5864e-01,  ..., 3.3428e-01,\n",
       "            0.0000e+00, 8.9853e-02],\n",
       "           [6.8349e-01, 3.6369e-01, 6.3587e-01,  ..., 0.0000e+00,\n",
       "            0.0000e+00, 1.6313e-01],\n",
       "           [7.2693e-01, 3.0151e-01, 5.6142e-01,  ..., 4.5584e-01,\n",
       "            3.8483e-01, 2.6984e-01]],\n",
       " \n",
       "          [[4.5923e-01, 4.6418e-01, 4.3595e-01,  ..., 1.9295e-01,\n",
       "            4.5060e-01, 6.2614e-01],\n",
       "           [1.5842e-01, 1.4888e-01, 1.0533e-01,  ..., 0.0000e+00,\n",
       "            2.5316e-01, 3.2403e-01],\n",
       "           [3.1303e-02, 2.4199e-01, 3.4519e-02,  ..., 0.0000e+00,\n",
       "            2.5300e-01, 1.4338e-01],\n",
       "           ...,\n",
       "           [0.0000e+00, 3.3549e-01, 2.3321e-01,  ..., 0.0000e+00,\n",
       "            7.7133e-01, 1.7986e-01],\n",
       "           [0.0000e+00, 3.7430e-01, 2.8357e-02,  ..., 0.0000e+00,\n",
       "            4.3512e-01, 1.4012e-01],\n",
       "           [2.0922e-01, 4.4060e-01, 3.2335e-01,  ..., 4.4613e-02,\n",
       "            3.1047e-01, 1.0741e-01]],\n",
       " \n",
       "          [[5.3528e-01, 4.9507e-01, 4.1918e-01,  ..., 2.9832e-01,\n",
       "            1.8391e-01, 1.2366e-01],\n",
       "           [4.9644e-01, 1.5383e-01, 2.9304e-01,  ..., 4.8031e-01,\n",
       "            1.1692e-01, 2.3224e-01],\n",
       "           [3.9148e-01, 5.1627e-02, 3.5597e-01,  ..., 2.6861e-01,\n",
       "            2.7124e-01, 3.8607e-01],\n",
       "           ...,\n",
       "           [7.6477e-01, 3.0039e-01, 8.2982e-01,  ..., 3.5164e-02,\n",
       "            0.0000e+00, 2.2542e-01],\n",
       "           [6.6194e-01, 3.4554e-01, 9.3128e-01,  ..., 0.0000e+00,\n",
       "            1.1903e-01, 1.1658e-01],\n",
       "           [4.0810e-01, 3.1190e-01, 4.3563e-01,  ..., 0.0000e+00,\n",
       "            0.0000e+00, 1.4957e-01]],\n",
       " \n",
       "          ...,\n",
       " \n",
       "          [[1.2085e-01, 2.5125e-01, 2.0308e-01,  ..., 2.5170e-01,\n",
       "            2.5772e-01, 1.9200e-01],\n",
       "           [3.3426e-01, 6.7171e-01, 5.5260e-01,  ..., 5.5404e-01,\n",
       "            2.7339e-01, 2.1548e-01],\n",
       "           [3.4425e-01, 7.3797e-01, 3.9822e-01,  ..., 4.0911e-01,\n",
       "            2.2541e-01, 2.3271e-01],\n",
       "           ...,\n",
       "           [0.0000e+00, 0.0000e+00, 4.9865e-03,  ..., 5.9216e-01,\n",
       "            2.3571e-02, 8.5013e-02],\n",
       "           [0.0000e+00, 0.0000e+00, 0.0000e+00,  ..., 2.1610e-01,\n",
       "            0.0000e+00, 4.6069e-02],\n",
       "           [0.0000e+00, 2.9636e-01, 2.0054e-01,  ..., 4.7026e-01,\n",
       "            1.9284e-01, 9.9594e-02]],\n",
       " \n",
       "          [[0.0000e+00, 0.0000e+00, 0.0000e+00,  ..., 0.0000e+00,\n",
       "            0.0000e+00, 0.0000e+00],\n",
       "           [0.0000e+00, 0.0000e+00, 0.0000e+00,  ..., 0.0000e+00,\n",
       "            0.0000e+00, 3.5009e-02],\n",
       "           [0.0000e+00, 5.6983e-02, 0.0000e+00,  ..., 0.0000e+00,\n",
       "            0.0000e+00, 1.7356e-03],\n",
       "           ...,\n",
       "           [0.0000e+00, 0.0000e+00, 0.0000e+00,  ..., 0.0000e+00,\n",
       "            0.0000e+00, 9.9628e-02],\n",
       "           [4.1668e-01, 2.5906e-01, 0.0000e+00,  ..., 0.0000e+00,\n",
       "            2.0196e-01, 8.6043e-02],\n",
       "           [0.0000e+00, 0.0000e+00, 0.0000e+00,  ..., 0.0000e+00,\n",
       "            0.0000e+00, 0.0000e+00]],\n",
       " \n",
       "          [[4.7407e-01, 2.9494e-01, 3.7878e-01,  ..., 3.9962e-01,\n",
       "            3.2765e-01, 4.1324e-01],\n",
       "           [3.8763e-01, 2.2768e-01, 5.9183e-03,  ..., 3.5505e-01,\n",
       "            2.9300e-01, 3.5261e-01],\n",
       "           [4.0952e-01, 2.7129e-01, 9.9033e-02,  ..., 2.2390e-01,\n",
       "            2.9310e-01, 3.6303e-01],\n",
       "           ...,\n",
       "           [2.9520e-01, 1.1040e-02, 3.6443e-01,  ..., 1.3550e-01,\n",
       "            3.8582e-01, 3.0375e-01],\n",
       "           [1.8802e-01, 1.5878e-01, 3.3489e-01,  ..., 4.2928e-01,\n",
       "            3.4772e-01, 3.3618e-01],\n",
       "           [1.2364e-01, 1.7028e-01, 2.6863e-01,  ..., 1.2499e-01,\n",
       "            1.2267e-01, 3.6627e-01]]],\n",
       " \n",
       " \n",
       "         [[[2.5009e-01, 0.0000e+00, 0.0000e+00,  ..., 2.9307e-02,\n",
       "            0.0000e+00, 1.5223e-01],\n",
       "           [4.4078e-01, 0.0000e+00, 9.9639e-02,  ..., 2.1868e-01,\n",
       "            5.0087e-02, 1.9635e-01],\n",
       "           [3.1886e-01, 6.0693e-02, 1.2687e-01,  ..., 1.3171e-01,\n",
       "            0.0000e+00, 6.9218e-02],\n",
       "           ...,\n",
       "           [5.8021e-01, 5.6967e-01, 3.9462e-02,  ..., 3.7116e-01,\n",
       "            0.0000e+00, 0.0000e+00],\n",
       "           [7.2188e-01, 3.5129e-01, 5.7359e-01,  ..., 0.0000e+00,\n",
       "            0.0000e+00, 1.5945e-01],\n",
       "           [7.2768e-01, 2.3193e-01, 4.6589e-01,  ..., 4.9957e-01,\n",
       "            3.5808e-01, 2.3226e-01]],\n",
       " \n",
       "          [[5.2079e-01, 5.8489e-01, 5.4164e-01,  ..., 2.1533e-01,\n",
       "            4.5322e-01, 5.9987e-01],\n",
       "           [2.3345e-01, 2.4454e-01, 2.1657e-01,  ..., 0.0000e+00,\n",
       "            2.7229e-01, 3.0480e-01],\n",
       "           [1.1249e-01, 3.6644e-01, 1.9712e-01,  ..., 0.0000e+00,\n",
       "            2.6011e-01, 1.9493e-01],\n",
       "           ...,\n",
       "           [0.0000e+00, 3.5362e-01, 3.1875e-01,  ..., 0.0000e+00,\n",
       "            7.0057e-01, 2.1432e-01],\n",
       "           [0.0000e+00, 4.0289e-01, 0.0000e+00,  ..., 0.0000e+00,\n",
       "            3.3754e-01, 1.4266e-01],\n",
       "           [2.2044e-01, 4.3723e-01, 2.8553e-01,  ..., 2.7004e-02,\n",
       "            3.2927e-01, 1.4969e-01]],\n",
       " \n",
       "          [[5.3927e-01, 5.4405e-01, 4.3146e-01,  ..., 2.6793e-01,\n",
       "            1.8640e-01, 1.3542e-01],\n",
       "           [4.6460e-01, 9.6363e-02, 2.9415e-01,  ..., 4.5223e-01,\n",
       "            1.4815e-01, 2.7365e-01],\n",
       "           [3.4533e-01, 2.3147e-02, 3.1089e-01,  ..., 2.4742e-01,\n",
       "            2.5086e-01, 4.0948e-01],\n",
       "           ...,\n",
       "           [7.5134e-01, 2.5401e-01, 8.6754e-01,  ..., 0.0000e+00,\n",
       "            0.0000e+00, 2.3697e-01],\n",
       "           [6.7757e-01, 3.3775e-01, 8.7089e-01,  ..., 0.0000e+00,\n",
       "            9.7234e-02, 1.2904e-01],\n",
       "           [4.2259e-01, 3.1151e-01, 4.0242e-01,  ..., 0.0000e+00,\n",
       "            0.0000e+00, 1.2418e-01]],\n",
       " \n",
       "          ...,\n",
       " \n",
       "          [[9.7894e-02, 1.6431e-01, 2.2639e-01,  ..., 2.4845e-01,\n",
       "            2.3622e-01, 1.6739e-01],\n",
       "           [3.0709e-01, 5.9911e-01, 5.4715e-01,  ..., 5.8229e-01,\n",
       "            2.9203e-01, 2.0166e-01],\n",
       "           [2.9792e-01, 6.3439e-01, 4.6292e-01,  ..., 4.4180e-01,\n",
       "            2.2221e-01, 2.3231e-01],\n",
       "           ...,\n",
       "           [0.0000e+00, 0.0000e+00, 0.0000e+00,  ..., 7.2072e-01,\n",
       "            4.8313e-02, 9.1250e-02],\n",
       "           [0.0000e+00, 0.0000e+00, 0.0000e+00,  ..., 2.2621e-01,\n",
       "            0.0000e+00, 2.2415e-02],\n",
       "           [4.7910e-03, 3.4399e-01, 2.2855e-01,  ..., 4.7893e-01,\n",
       "            1.9256e-01, 1.1935e-01]],\n",
       " \n",
       "          [[0.0000e+00, 0.0000e+00, 0.0000e+00,  ..., 0.0000e+00,\n",
       "            0.0000e+00, 0.0000e+00],\n",
       "           [0.0000e+00, 0.0000e+00, 0.0000e+00,  ..., 0.0000e+00,\n",
       "            0.0000e+00, 3.5177e-02],\n",
       "           [0.0000e+00, 1.4405e-01, 0.0000e+00,  ..., 0.0000e+00,\n",
       "            0.0000e+00, 1.0616e-02],\n",
       "           ...,\n",
       "           [0.0000e+00, 0.0000e+00, 0.0000e+00,  ..., 0.0000e+00,\n",
       "            2.5502e-02, 1.2650e-01],\n",
       "           [4.7952e-01, 3.2862e-01, 0.0000e+00,  ..., 0.0000e+00,\n",
       "            3.0075e-01, 8.7456e-02],\n",
       "           [0.0000e+00, 0.0000e+00, 0.0000e+00,  ..., 0.0000e+00,\n",
       "            0.0000e+00, 0.0000e+00]],\n",
       " \n",
       "          [[5.2821e-01, 3.4835e-01, 3.8778e-01,  ..., 4.0055e-01,\n",
       "            3.2438e-01, 3.8007e-01],\n",
       "           [4.1568e-01, 2.6877e-01, 2.5900e-02,  ..., 4.0873e-01,\n",
       "            2.9740e-01, 3.4635e-01],\n",
       "           [4.4034e-01, 3.4154e-01, 1.4644e-01,  ..., 2.3383e-01,\n",
       "            2.9017e-01, 3.6560e-01],\n",
       "           ...,\n",
       "           [2.5782e-01, 0.0000e+00, 3.4273e-01,  ..., 1.4595e-01,\n",
       "            3.4809e-01, 2.9399e-01],\n",
       "           [1.5557e-01, 8.1174e-02, 2.7675e-01,  ..., 4.0354e-01,\n",
       "            2.7084e-01, 3.2533e-01],\n",
       "           [1.2349e-01, 1.8144e-01, 2.6087e-01,  ..., 9.2425e-02,\n",
       "            8.2705e-02, 3.5651e-01]]]], device='cuda:0', dtype=torch.float64,\n",
       "        grad_fn=<AddBackward0>),\n",
       " 'masks': tensor([[[[ 0.0928,  0.5666,  0.2877,  ...,  0.3289,  0.4961,  0.2362],\n",
       "           [ 0.0542,  0.3081,  0.0389,  ...,  0.0964,  0.2633,  0.2197],\n",
       "           [-0.1598, -0.0272,  0.1644,  ..., -0.2488,  0.3050,  0.2706],\n",
       "           ...,\n",
       "           [ 0.1177,  0.6501,  0.5254,  ..., -0.1069,  0.2021,  0.1903],\n",
       "           [ 0.0496,  0.4344,  0.9502,  ..., -0.0404,  0.4272,  0.2769],\n",
       "           [ 0.2431,  0.6337,  0.6975,  ...,  0.1700,  0.2271,  0.0809]]],\n",
       " \n",
       " \n",
       "         [[[ 0.0441,  0.5406,  0.2627,  ...,  0.3230,  0.4910,  0.2310],\n",
       "           [ 0.0382,  0.3046,  0.0422,  ...,  0.0632,  0.2344,  0.2021],\n",
       "           [-0.1556, -0.0141,  0.2373,  ..., -0.3097,  0.2315,  0.2692],\n",
       "           ...,\n",
       "           [ 0.1172,  0.6566,  0.4637,  ..., -0.0792,  0.1962,  0.1546],\n",
       "           [ 0.0901,  0.4182,  0.8623,  ..., -0.0220,  0.4533,  0.2697],\n",
       "           [ 0.2867,  0.6915,  0.7412,  ...,  0.1706,  0.2076,  0.0416]]],\n",
       " \n",
       " \n",
       "         [[[ 0.1029,  0.5867,  0.3072,  ...,  0.3335,  0.4918,  0.2276],\n",
       "           [ 0.0470,  0.2847,  0.0662,  ...,  0.1098,  0.2592,  0.1957],\n",
       "           [-0.1438,  0.0017,  0.2166,  ..., -0.2149,  0.3248,  0.2493],\n",
       "           ...,\n",
       "           [ 0.1408,  0.6884,  0.5396,  ..., -0.1010,  0.1956,  0.1842],\n",
       "           [ 0.0815,  0.4559,  0.9263,  ..., -0.0127,  0.4367,  0.2745],\n",
       "           [ 0.2404,  0.6462,  0.7225,  ...,  0.1753,  0.2328,  0.0684]]],\n",
       " \n",
       " \n",
       "         [[[ 0.0737,  0.5268,  0.2604,  ...,  0.3668,  0.4910,  0.2293],\n",
       "           [ 0.0935,  0.3645,  0.0082,  ...,  0.1315,  0.2906,  0.2142],\n",
       "           [-0.1845,  0.0196,  0.1286,  ..., -0.1080,  0.3648,  0.2822],\n",
       "           ...,\n",
       "           [ 0.1305,  0.6951,  0.5863,  ..., -0.1434,  0.2000,  0.1847],\n",
       "           [ 0.0545,  0.5039,  1.0160,  ..., -0.0526,  0.4035,  0.2793],\n",
       "           [ 0.2449,  0.6684,  0.7745,  ...,  0.1495,  0.1825,  0.0736]]]],\n",
       "        device='cuda:0', dtype=torch.float64, grad_fn=<ConvolutionBackward0>)}"
      ]
     },
     "execution_count": 25,
     "metadata": {},
     "output_type": "execute_result"
    }
   ],
   "source": [
    "b_ = net(a.double().to(device))\n",
    "b_"
   ]
  },
  {
   "cell_type": "code",
   "execution_count": 26,
   "id": "b99132da",
   "metadata": {},
   "outputs": [
    {
     "data": {
      "text/plain": [
       "Munch({'dice_metric': <monai.metrics.meandice.DiceMetric object at 0x7fb1234f99a0>, 'mse_metric': <monai.metrics.regression.MSEMetric object at 0x7fb1234f99d0>})"
      ]
     },
     "execution_count": 26,
     "metadata": {},
     "output_type": "execute_result"
    }
   ],
   "source": [
    "args_yaml.metrics"
   ]
  },
  {
   "cell_type": "code",
   "execution_count": 27,
   "id": "b0f0130a",
   "metadata": {},
   "outputs": [
    {
     "ename": "KeyError",
     "evalue": "0",
     "output_type": "error",
     "traceback": [
      "\u001b[0;31m---------------------------------------------------------------------------\u001b[0m",
      "\u001b[0;31mKeyError\u001b[0m                                  Traceback (most recent call last)",
      "Cell \u001b[0;32mIn[27], line 1\u001b[0m\n\u001b[0;32m----> 1\u001b[0m \u001b[38;5;28mstr\u001b[39m(\u001b[43margs_yaml\u001b[49m\u001b[38;5;241;43m.\u001b[39;49m\u001b[43mmetrics\u001b[49m\u001b[43m[\u001b[49m\u001b[38;5;241;43m0\u001b[39;49m\u001b[43m]\u001b[49m)\u001b[38;5;241m.\u001b[39msplit(\u001b[38;5;124m\"\u001b[39m\u001b[38;5;124m \u001b[39m\u001b[38;5;124m\"\u001b[39m)[\u001b[38;5;241m0\u001b[39m]\u001b[38;5;241m.\u001b[39msplit(\u001b[38;5;124m\"\u001b[39m\u001b[38;5;124m.\u001b[39m\u001b[38;5;124m\"\u001b[39m)[\u001b[38;5;241m-\u001b[39m\u001b[38;5;241m1\u001b[39m]\n",
      "\u001b[0;31mKeyError\u001b[0m: 0"
     ]
    }
   ],
   "source": [
    "str(args_yaml.metrics[0]).split(\" \")[0].split(\".\")[-1]"
   ]
  },
  {
   "cell_type": "code",
   "execution_count": null,
   "id": "1b36a765",
   "metadata": {},
   "outputs": [],
   "source": [
    "args_yaml.losses[0](b.double(), b.double())\n",
    "args_yaml.losses[1](b.double(), b.double())\n",
    "args_yaml.losses[2](b.double(), b.double())"
   ]
  }
 ],
 "metadata": {
  "kernelspec": {
   "display_name": "Python 3 (ipykernel)",
   "language": "python",
   "name": "python3"
  },
  "language_info": {
   "codemirror_mode": {
    "name": "ipython",
    "version": 3
   },
   "file_extension": ".py",
   "mimetype": "text/x-python",
   "name": "python",
   "nbconvert_exporter": "python",
   "pygments_lexer": "ipython3",
   "version": "3.9.16"
  }
 },
 "nbformat": 4,
 "nbformat_minor": 5
}
